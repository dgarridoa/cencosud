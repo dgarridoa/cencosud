{
 "cells": [
  {
   "cell_type": "markdown",
   "id": "1eb76494-0528-471b-9598-63ff073c9120",
   "metadata": {},
   "source": [
    "#  Predección de demanda semana de carnes en la tienda 1\n",
    "\n",
    "El objetivo del problema es predecir la demanda semanal de carnes de la tienda 1 con dos semanas de anticipación. Se asume que las ordenes se realizan los Viernes en horario am, por lo que no se conoce la demanda de ese día. Por ejemplo, si la orden se hizó el 2019-12-13 esta llegará el 2019-12-27, siendo las ventas del 2019-12-12 hacia atras conocidas. "
   ]
  },
  {
   "cell_type": "code",
   "execution_count": 1,
   "id": "2237346e-df73-4248-bcba-cedd11be2653",
   "metadata": {},
   "outputs": [
    {
     "name": "stderr",
     "output_type": "stream",
     "text": [
      "2022-05-17 00:54:28.587896: W tensorflow/stream_executor/platform/default/dso_loader.cc:64] Could not load dynamic library 'libcudart.so.11.0'; dlerror: libcudart.so.11.0: cannot open shared object file: No such file or directory\n",
      "2022-05-17 00:54:28.587922: I tensorflow/stream_executor/cuda/cudart_stub.cc:29] Ignore above cudart dlerror if you do not have a GPU set up on your machine.\n"
     ]
    }
   ],
   "source": [
    "import pandas as pd\n",
    "import numpy as np\n",
    "import tensorflow as tf\n",
    "import matplotlib.pyplot as plt\n",
    "from datetime import timedelta\n",
    "from sqlalchemy import create_engine\n",
    "from tensorflow import keras\n",
    "from tensorflow.keras import layers"
   ]
  },
  {
   "cell_type": "markdown",
   "id": "0664cd74-ef9e-4f0a-a099-81e61d14c789",
   "metadata": {},
   "source": [
    "## 1. Obtener los ventas de la Tienda 1 en la categoría \"CARNES\""
   ]
  },
  {
   "cell_type": "code",
   "execution_count": 2,
   "id": "ce91e1b6-bd6b-405e-864b-a9d25172d93d",
   "metadata": {},
   "outputs": [],
   "source": [
    "engine = create_engine(\"sqlite:///problemas_seleccion.db\")\n",
    "conection = engine.connect()\n",
    "query = \"\"\"\n",
    "    SELECT \n",
    "      tv.fecha,\n",
    "      tv.ventas\n",
    "    FROM TABLA_VENTAS AS tv\n",
    "    INNER JOIN TABLA_CATEGORIAS AS tc\n",
    "    ON tv.tienda = 1\n",
    "      AND tv.id_categoria = tc.id_categoria\n",
    "      AND tc.categoria = \"CARNES\"\n",
    "    \"\"\"\n",
    "df = pd.read_sql(query, engine, parse_dates=[\"FECHA\"])"
   ]
  },
  {
   "cell_type": "markdown",
   "id": "6954bbc3-5ecd-40f7-991b-39cd187b3c5f",
   "metadata": {},
   "source": [
    "## 2. Descripción de la base de datos"
   ]
  },
  {
   "cell_type": "code",
   "execution_count": 3,
   "id": "0b8c42f6-5b52-4ad0-b5d7-29e8dc5d3ac3",
   "metadata": {},
   "outputs": [
    {
     "data": {
      "text/plain": [
       "(       FECHA  VENTAS\n",
       " 0 2017-08-01  1142.0\n",
       " 1 2017-08-02  1079.0\n",
       " 2 2017-08-03  1096.0\n",
       " 3 2017-08-04  2430.0\n",
       " 4 2017-08-05  4261.0,\n",
       "          FECHA       VENTAS\n",
       " 847 2019-12-11  1290.206994\n",
       " 848 2019-12-12  1387.618000\n",
       " 849 2019-12-13  2535.910981\n",
       " 850 2019-12-14  4388.873985\n",
       " 851 2019-12-15  3643.656030)"
      ]
     },
     "execution_count": 3,
     "metadata": {},
     "output_type": "execute_result"
    }
   ],
   "source": [
    "df.head(), df.tail()"
   ]
  },
  {
   "cell_type": "code",
   "execution_count": 4,
   "id": "167d919e-619d-4e94-9b37-b5976d865a2d",
   "metadata": {},
   "outputs": [
    {
     "name": "stdout",
     "output_type": "stream",
     "text": [
      "<class 'pandas.core.frame.DataFrame'>\n",
      "RangeIndex: 852 entries, 0 to 851\n",
      "Data columns (total 2 columns):\n",
      " #   Column  Non-Null Count  Dtype         \n",
      "---  ------  --------------  -----         \n",
      " 0   FECHA   852 non-null    datetime64[ns]\n",
      " 1   VENTAS  852 non-null    float64       \n",
      "dtypes: datetime64[ns](1), float64(1)\n",
      "memory usage: 13.4 KB\n"
     ]
    }
   ],
   "source": [
    "df.info()"
   ]
  },
  {
   "cell_type": "code",
   "execution_count": 5,
   "id": "c8c8bb1e-56e3-47b4-bfa0-1a7ffbd81bd7",
   "metadata": {},
   "outputs": [
    {
     "data": {
      "text/html": [
       "<div>\n",
       "<style scoped>\n",
       "    .dataframe tbody tr th:only-of-type {\n",
       "        vertical-align: middle;\n",
       "    }\n",
       "\n",
       "    .dataframe tbody tr th {\n",
       "        vertical-align: top;\n",
       "    }\n",
       "\n",
       "    .dataframe thead th {\n",
       "        text-align: right;\n",
       "    }\n",
       "</style>\n",
       "<table border=\"1\" class=\"dataframe\">\n",
       "  <thead>\n",
       "    <tr style=\"text-align: right;\">\n",
       "      <th></th>\n",
       "      <th>VENTAS</th>\n",
       "    </tr>\n",
       "  </thead>\n",
       "  <tbody>\n",
       "    <tr>\n",
       "      <th>count</th>\n",
       "      <td>852.000000</td>\n",
       "    </tr>\n",
       "    <tr>\n",
       "      <th>mean</th>\n",
       "      <td>2287.154957</td>\n",
       "    </tr>\n",
       "    <tr>\n",
       "      <th>std</th>\n",
       "      <td>1605.793504</td>\n",
       "    </tr>\n",
       "    <tr>\n",
       "      <th>min</th>\n",
       "      <td>362.000000</td>\n",
       "    </tr>\n",
       "    <tr>\n",
       "      <th>25%</th>\n",
       "      <td>1086.000000</td>\n",
       "    </tr>\n",
       "    <tr>\n",
       "      <th>50%</th>\n",
       "      <td>1799.688996</td>\n",
       "    </tr>\n",
       "    <tr>\n",
       "      <th>75%</th>\n",
       "      <td>3008.363742</td>\n",
       "    </tr>\n",
       "    <tr>\n",
       "      <th>max</th>\n",
       "      <td>10878.000000</td>\n",
       "    </tr>\n",
       "  </tbody>\n",
       "</table>\n",
       "</div>"
      ],
      "text/plain": [
       "             VENTAS\n",
       "count    852.000000\n",
       "mean    2287.154957\n",
       "std     1605.793504\n",
       "min      362.000000\n",
       "25%     1086.000000\n",
       "50%     1799.688996\n",
       "75%     3008.363742\n",
       "max    10878.000000"
      ]
     },
     "execution_count": 5,
     "metadata": {},
     "output_type": "execute_result"
    }
   ],
   "source": [
    "df.describe()"
   ]
  },
  {
   "cell_type": "code",
   "execution_count": 6,
   "id": "c7cb0f14-a88f-4609-8f9d-e9f5b7194329",
   "metadata": {},
   "outputs": [
    {
     "data": {
      "text/plain": [
       "FECHA     0\n",
       "VENTAS    0\n",
       "dtype: int64"
      ]
     },
     "execution_count": 6,
     "metadata": {},
     "output_type": "execute_result"
    }
   ],
   "source": [
    "df.isna().sum()"
   ]
  },
  {
   "cell_type": "code",
   "execution_count": 7,
   "id": "eeef7dcf-936c-498c-a7cb-7ebe86be4aeb",
   "metadata": {},
   "outputs": [
    {
     "data": {
      "text/plain": [
       "(Timestamp('2017-08-01 00:00:00'), Timestamp('2019-12-15 00:00:00'))"
      ]
     },
     "execution_count": 7,
     "metadata": {},
     "output_type": "execute_result"
    }
   ],
   "source": [
    "df.FECHA.min(), df.FECHA.max()"
   ]
  },
  {
   "cell_type": "code",
   "execution_count": 8,
   "id": "dca6c57b-5905-4f58-917b-4bc77802e53c",
   "metadata": {},
   "outputs": [
    {
     "data": {
      "text/plain": [
       "Timedelta('866 days 00:00:00')"
      ]
     },
     "execution_count": 8,
     "metadata": {},
     "output_type": "execute_result"
    }
   ],
   "source": [
    "df.FECHA.max()-df.FECHA.min()"
   ]
  },
  {
   "cell_type": "markdown",
   "id": "fcb32659-531d-4b7e-9b1a-b2b5fa1de62a",
   "metadata": {},
   "source": [
    "## 3. Eleccción de métrica de desempeño y división del conjunto de los datos en train, validation y test.\n",
    "\n",
    "La métrica que se escoge es el MAE (Mean Absolute Error), la cual corresponde al promedio de los errores absolutos entre las prediciones y el valor real. El MAE penaliza de igual manera la sobreestimación y subestimación de la demanda, por lo que si estos costos no son simétricos se sugiere utilizar costos estimados que reflejen el objetivo de negocio.\n",
    "\n",
    "\n",
    "En primer lugar, se agrupan las ventas por semana teniendo en cuenta que la semana empieza un Viernes y termina un Jueves, ya que los pedidos se hacen los Viernes y llegan el mismo dia en dos semanas más. En segundo lugar, se dividen los datos en entrenamiento, validación y test, con el objetivo de calibrar parámetros, hiperparámetros y evaluar la capacidad de generalización. Además, al ser un problema de serie de tiempo el orden importa, por ende dichos conjuntos deben mantener un orden."
   ]
  },
  {
   "cell_type": "code",
   "execution_count": 9,
   "id": "e7071026-9342-4b8f-b0d6-242885574b2c",
   "metadata": {},
   "outputs": [],
   "source": [
    "dates = df.FECHA[3:-3]\n",
    "dates.reset_index(drop=True, inplace=True)\n",
    "intervals = []\n",
    "start_date = dates[0]\n",
    "end_date = dates[len(dates)-1]\n",
    "\n",
    "while start_date < end_date:\n",
    "    lb = start_date\n",
    "    up = lb + timedelta(days=7)\n",
    "    intervals.append((lb, up))\n",
    "    start_date = start_date + timedelta(days=7)\n",
    "    \n",
    "weekly_serie = np.zeros(len(intervals))\n",
    "for i, (lb, up) in enumerate(intervals):\n",
    "    weekly_serie[i] = df[(df.FECHA >= lb) & (df.FECHA < up)].VENTAS.sum()"
   ]
  },
  {
   "cell_type": "code",
   "execution_count": 10,
   "id": "af903065-a69d-4596-a16b-bf2b2de8611b",
   "metadata": {},
   "outputs": [
    {
     "data": {
      "text/plain": [
       "(15729.842136059411, 5631.106545178412)"
      ]
     },
     "execution_count": 10,
     "metadata": {},
     "output_type": "execute_result"
    }
   ],
   "source": [
    "weekly_serie.mean(), weekly_serie.std()"
   ]
  },
  {
   "cell_type": "code",
   "execution_count": 11,
   "id": "82e4cf33-42fb-4df2-84be-aead230afcb1",
   "metadata": {},
   "outputs": [
    {
     "data": {
      "text/plain": [
       "[<matplotlib.lines.Line2D at 0x7f33dc407160>]"
      ]
     },
     "execution_count": 11,
     "metadata": {},
     "output_type": "execute_result"
    },
    {
     "data": {
      "image/png": "[encoded data removed]",
      "text/plain": [
       "<Figure size 432x288 with 1 Axes>"
      ]
     },
     "metadata": {
      "needs_background": "light"
     },
     "output_type": "display_data"
    }
   ],
   "source": [
    "plt.plot(weekly_serie)"
   ]
  },
  {
   "cell_type": "code",
   "execution_count": 12,
   "id": "9f12c193-63b0-4309-b9b6-2042d57b0db9",
   "metadata": {},
   "outputs": [
    {
     "name": "stderr",
     "output_type": "stream",
     "text": [
      "2022-05-17 00:54:49.750243: W tensorflow/stream_executor/platform/default/dso_loader.cc:64] Could not load dynamic library 'libcuda.so.1'; dlerror: libcuda.so.1: cannot open shared object file: No such file or directory\n",
      "2022-05-17 00:54:49.750286: W tensorflow/stream_executor/cuda/cuda_driver.cc:269] failed call to cuInit: UNKNOWN ERROR (303)\n",
      "2022-05-17 00:54:49.750301: I tensorflow/stream_executor/cuda/cuda_diagnostics.cc:156] kernel driver does not appear to be running on this host (66cbabd80852): /proc/driver/nvidia/version does not exist\n",
      "2022-05-17 00:54:49.750530: I tensorflow/core/platform/cpu_feature_guard.cc:151] This TensorFlow binary is optimized with oneAPI Deep Neural Network Library (oneDNN) to use the following CPU instructions in performance-critical operations:  AVX2 FMA\n",
      "To enable them in other operations, rebuild TensorFlow with the appropriate compiler flags.\n"
     ]
    }
   ],
   "source": [
    "# sizes of train, validation and test\n",
    "num_train_samples = int(0.6 * len(weekly_serie))\n",
    "num_val_samples = int(0.2 * len(weekly_serie))\n",
    "num_test_samples = len(weekly_serie) - num_train_samples - num_val_samples\n",
    "\n",
    "\n",
    "# create dataset for training, validation, and testing\n",
    "# with the goal of predict the third week after the current:\n",
    "# Ex: sequence_length=3, leap=3\n",
    "#  raw_data = [0, 1, 2, 3, 4, 6] => input = [0, 1, 2], target = 6\n",
    "\n",
    "sampling_rate = 1\n",
    "sequence_length = 12\n",
    "leap = 3\n",
    "delay = sampling_rate * (sequence_length + leap - 1)\n",
    "\n",
    "batch_size = 2\n",
    "\n",
    "train_dataset = keras.utils.timeseries_dataset_from_array(\n",
    "    weekly_serie[:-leap],\n",
    "    targets=weekly_serie[delay:],\n",
    "    sampling_rate=sampling_rate,\n",
    "    sequence_length=sequence_length,\n",
    "    sequence_stride=1,\n",
    "    shuffle=True,\n",
    "    batch_size=batch_size,\n",
    "    start_index=0,\n",
    "    end_index=num_train_samples - leap)\n",
    "\n",
    "val_dataset = keras.utils.timeseries_dataset_from_array(\n",
    "    weekly_serie[:-leap],\n",
    "    targets=weekly_serie[delay:],\n",
    "    sampling_rate=sampling_rate,\n",
    "    sequence_length=sequence_length,\n",
    "    sequence_stride=1,\n",
    "    shuffle=True,\n",
    "    batch_size=batch_size,\n",
    "    start_index=num_train_samples - delay,\n",
    "    end_index=num_train_samples + num_val_samples - leap)\n",
    "\n",
    "test_dataset = keras.utils.timeseries_dataset_from_array(\n",
    "    weekly_serie[:-leap],\n",
    "    targets=weekly_serie[delay:],\n",
    "    sampling_rate=sampling_rate,\n",
    "    sequence_length=sequence_length,\n",
    "    sequence_stride=1,\n",
    "    shuffle=True,\n",
    "    batch_size=batch_size,\n",
    "    start_index=num_train_samples + num_val_samples - delay)"
   ]
  },
  {
   "cell_type": "code",
   "execution_count": 13,
   "id": "f90d0715-170b-45e1-ad34-509695df79d9",
   "metadata": {},
   "outputs": [
    {
     "name": "stdout",
     "output_type": "stream",
     "text": [
      "Intput\n",
      " tf.Tensor(\n",
      "[[12099. 17342. 14544. 14870. 17676. 13659. 18363. 14110. 12978. 16061.\n",
      "  14225. 15163.]\n",
      " [14870. 17676. 13659. 18363. 14110. 12978. 16061. 14225. 15163. 15461.\n",
      "  20100. 14825.]], shape=(2, 12), dtype=float64)\n",
      "Output\n",
      " tf.Tensor([14825. 19663.], shape=(2,), dtype=float64)\n"
     ]
    }
   ],
   "source": [
    "for x, y in train_dataset.take(1):\n",
    "    print(\"Intput\\n\", x)\n",
    "    print(\"Output\\n\", y)"
   ]
  },
  {
   "cell_type": "markdown",
   "id": "d41543a4-c284-4bdd-93f0-e87ff59d51a4",
   "metadata": {},
   "source": [
    "## 4. Modelos Predictivos"
   ]
  },
  {
   "cell_type": "code",
   "execution_count": 14,
   "id": "07650d33-7bac-4881-a3c1-8d2d35fe3c30",
   "metadata": {},
   "outputs": [],
   "source": [
    "def plot_loss(history):\n",
    "    loss = history.history[\"mae\"]\n",
    "    val_loss = history.history[\"val_mae\"]\n",
    "    epochs = range(1, len(loss) + 1)\n",
    "    plt.figure()\n",
    "    plt.plot(epochs, loss, \"bo\", label=\"Training MAE\")\n",
    "    plt.plot(epochs, val_loss, \"b\", label=\"Validation MAE\")\n",
    "    plt.title(\"Training and validation MAE\")\n",
    "    plt.legend()\n",
    "    plt.show()"
   ]
  },
  {
   "cell_type": "markdown",
   "id": "802f8d98-763d-4a21-8745-3820427eee94",
   "metadata": {},
   "source": [
    "### 4.1 Baseline\n",
    "\n",
    "Cuando se desarrolla un solución análitica desde cero es bueno partir creando una solución base, de esta manera tenemos un punto de comparación de que tan bien o mal lo estan haciendo los modelos. La solución base propuesta consiste en una heurística que utiliza la demanda de la semana actual para predecir la demanda en dos semanas. Matemáticamente:\n",
    "\n",
    "$$\\hat{y}_{t+3} = y_{t}$$"
   ]
  },
  {
   "cell_type": "code",
   "execution_count": 15,
   "id": "3f0c4a27-fe22-4a2a-bae9-0c0e73888f6c",
   "metadata": {},
   "outputs": [
    {
     "name": "stdout",
     "output_type": "stream",
     "text": [
      "Validation MAE: 4335.79\n",
      "Test MAE: 7006.79\n"
     ]
    }
   ],
   "source": [
    "def evaluate_naive_method(dataset):\n",
    "    total_abs_err = 0.\n",
    "    samples_seen = 0.\n",
    "    for samples, targets in dataset:\n",
    "        preds = tf.convert_to_tensor([value[-1] for value in samples])\n",
    "        total_abs_err += np.sum(np.abs(preds - targets))\n",
    "        samples_seen += samples.shape[0]\n",
    "    return total_abs_err / samples_seen\n",
    "\n",
    "\n",
    "print(f\"Validation MAE: {evaluate_naive_method(val_dataset):.2f}\")\n",
    "print(f\"Test MAE: {evaluate_naive_method(test_dataset):.2f}\")"
   ]
  },
  {
   "cell_type": "markdown",
   "id": "7f5b9f41-3ed7-44be-954c-f3107a3e9630",
   "metadata": {},
   "source": [
    "### 4.2 Linear Model\n",
    "\n",
    "El modelo linea predice el siguiente la demanda semanal como $\\hat{y}_{t+3} = b + w_{1}y_{t} + w_{2}y_{t-1} + ... + w_{p-1}y_{t-p+1}$, donde $p$ es el orden. En este caso se fijo $p=12$, lo cual corresponde a 12 semanas. Se ajustan los parámetros mediante mini-batch gradient descent. Se utiliza el conjunto de validación para escoger el modelo minimiza la función de pérdida \"Mean Square Error\". Vale la pena mencionar que el hiperparámetro $p$ se puede calibrar en el conjunto de validación, sin embargo, se decidió no hacerlo debido a que trata de un MVP."
   ]
  },
  {
   "cell_type": "code",
   "execution_count": 17,
   "id": "fec44219-a121-4076-a7ae-eece026ea334",
   "metadata": {},
   "outputs": [
    {
     "name": "stdout",
     "output_type": "stream",
     "text": [
      "Epoch 1/100\n",
      "30/30 [==============================] - 0s 4ms/step - loss: 91026224.0000 - mae: 7880.2559 - val_loss: 54567748.0000 - val_mae: 6182.3770\n",
      "Epoch 2/100\n",
      "30/30 [==============================] - 0s 2ms/step - loss: 85307392.0000 - mae: 7531.6001 - val_loss: 49869156.0000 - val_mae: 5886.7310\n",
      "Epoch 3/100\n",
      "30/30 [==============================] - 0s 2ms/step - loss: 79931064.0000 - mae: 7243.2393 - val_loss: 47650752.0000 - val_mae: 5667.3091\n",
      "Epoch 4/100\n",
      "30/30 [==============================] - 0s 2ms/step - loss: 77809936.0000 - mae: 7015.8608 - val_loss: 47806828.0000 - val_mae: 5587.8145\n",
      "Epoch 5/100\n",
      "30/30 [==============================] - 0s 2ms/step - loss: 73873272.0000 - mae: 6786.7139 - val_loss: 45194404.0000 - val_mae: 5348.4961\n",
      "Epoch 6/100\n",
      "30/30 [==============================] - 0s 2ms/step - loss: 69894792.0000 - mae: 6528.0850 - val_loss: 44016868.0000 - val_mae: 5184.3228\n",
      "Epoch 7/100\n",
      "30/30 [==============================] - 0s 2ms/step - loss: 68281248.0000 - mae: 6375.0488 - val_loss: 42522920.0000 - val_mae: 5020.8818\n",
      "Epoch 8/100\n",
      "30/30 [==============================] - 0s 2ms/step - loss: 65284392.0000 - mae: 6164.5835 - val_loss: 39086660.0000 - val_mae: 4812.3525\n",
      "Epoch 9/100\n",
      "30/30 [==============================] - 0s 2ms/step - loss: 64057088.0000 - mae: 6067.2812 - val_loss: 40995152.0000 - val_mae: 4791.7588\n",
      "Epoch 10/100\n",
      "30/30 [==============================] - 0s 2ms/step - loss: 62719212.0000 - mae: 5904.7319 - val_loss: 41106836.0000 - val_mae: 4703.3428\n",
      "Epoch 11/100\n",
      "30/30 [==============================] - 0s 2ms/step - loss: 60734992.0000 - mae: 5820.9941 - val_loss: 39362884.0000 - val_mae: 4581.2017\n",
      "Epoch 12/100\n",
      "30/30 [==============================] - 0s 2ms/step - loss: 59264700.0000 - mae: 5653.9907 - val_loss: 38073112.0000 - val_mae: 4411.1196\n",
      "Epoch 13/100\n",
      "30/30 [==============================] - 0s 2ms/step - loss: 59371704.0000 - mae: 5688.6616 - val_loss: 37452804.0000 - val_mae: 4381.6372\n",
      "Epoch 14/100\n",
      "30/30 [==============================] - 0s 2ms/step - loss: 58186804.0000 - mae: 5575.1812 - val_loss: 40172860.0000 - val_mae: 4463.4810\n",
      "Epoch 15/100\n",
      "30/30 [==============================] - 0s 2ms/step - loss: 58083572.0000 - mae: 5522.9751 - val_loss: 37564300.0000 - val_mae: 4262.1104\n",
      "Epoch 16/100\n",
      "30/30 [==============================] - 0s 2ms/step - loss: 56406724.0000 - mae: 5367.3125 - val_loss: 38246124.0000 - val_mae: 4210.0410\n",
      "Epoch 17/100\n",
      "30/30 [==============================] - 0s 2ms/step - loss: 56119928.0000 - mae: 5381.2036 - val_loss: 41626412.0000 - val_mae: 4392.4956\n",
      "Epoch 18/100\n",
      "30/30 [==============================] - 0s 2ms/step - loss: 55582472.0000 - mae: 5328.7920 - val_loss: 39218900.0000 - val_mae: 4190.5903\n",
      "Epoch 19/100\n",
      "30/30 [==============================] - 0s 2ms/step - loss: 54464972.0000 - mae: 5267.3628 - val_loss: 40146324.0000 - val_mae: 4230.0146\n",
      "Epoch 20/100\n",
      "30/30 [==============================] - 0s 2ms/step - loss: 53886812.0000 - mae: 5191.4668 - val_loss: 36943700.0000 - val_mae: 3969.1924\n",
      "Epoch 21/100\n",
      "30/30 [==============================] - 0s 2ms/step - loss: 55388452.0000 - mae: 5244.8037 - val_loss: 41319004.0000 - val_mae: 4274.5381\n",
      "Epoch 22/100\n",
      "30/30 [==============================] - 0s 2ms/step - loss: 55627368.0000 - mae: 5241.6616 - val_loss: 39074452.0000 - val_mae: 4166.4585\n",
      "Epoch 23/100\n",
      "30/30 [==============================] - 0s 2ms/step - loss: 56486848.0000 - mae: 5258.8618 - val_loss: 40743456.0000 - val_mae: 4199.9902\n",
      "Epoch 24/100\n",
      "30/30 [==============================] - 0s 2ms/step - loss: 54406996.0000 - mae: 5142.4204 - val_loss: 37872840.0000 - val_mae: 3996.0791\n",
      "Epoch 25/100\n",
      "30/30 [==============================] - 0s 2ms/step - loss: 55260208.0000 - mae: 5210.2285 - val_loss: 37952772.0000 - val_mae: 4018.2100\n",
      "Epoch 26/100\n",
      "30/30 [==============================] - 0s 2ms/step - loss: 54302348.0000 - mae: 5154.5186 - val_loss: 38493344.0000 - val_mae: 4076.0552\n",
      "Epoch 27/100\n",
      "30/30 [==============================] - 0s 2ms/step - loss: 54208352.0000 - mae: 5082.5098 - val_loss: 41719708.0000 - val_mae: 4124.4824\n",
      "Epoch 28/100\n",
      "30/30 [==============================] - 0s 2ms/step - loss: 54546624.0000 - mae: 5155.0195 - val_loss: 38272812.0000 - val_mae: 3975.4375\n",
      "Epoch 29/100\n",
      "30/30 [==============================] - 0s 2ms/step - loss: 54223228.0000 - mae: 5073.9497 - val_loss: 39916888.0000 - val_mae: 4096.2603\n",
      "Epoch 30/100\n",
      "30/30 [==============================] - 0s 2ms/step - loss: 53777864.0000 - mae: 5069.8066 - val_loss: 40428908.0000 - val_mae: 4104.4541\n",
      "Epoch 31/100\n",
      "30/30 [==============================] - 0s 2ms/step - loss: 54967180.0000 - mae: 5172.7061 - val_loss: 38904276.0000 - val_mae: 3984.3115\n",
      "Epoch 32/100\n",
      "30/30 [==============================] - 0s 2ms/step - loss: 55245232.0000 - mae: 5126.3511 - val_loss: 39660572.0000 - val_mae: 4114.4321\n",
      "Epoch 33/100\n",
      "30/30 [==============================] - 0s 2ms/step - loss: 53635316.0000 - mae: 5048.1646 - val_loss: 41568496.0000 - val_mae: 4102.4990\n",
      "Epoch 34/100\n",
      "30/30 [==============================] - 0s 2ms/step - loss: 54388244.0000 - mae: 5122.4102 - val_loss: 38729756.0000 - val_mae: 4007.7874\n",
      "Epoch 35/100\n",
      "30/30 [==============================] - 0s 2ms/step - loss: 55801644.0000 - mae: 5192.7485 - val_loss: 40488172.0000 - val_mae: 4082.0872\n",
      "Epoch 36/100\n",
      "30/30 [==============================] - 0s 2ms/step - loss: 53828132.0000 - mae: 5087.4155 - val_loss: 39538228.0000 - val_mae: 4050.9443\n",
      "Epoch 37/100\n",
      "30/30 [==============================] - 0s 2ms/step - loss: 54849588.0000 - mae: 5112.4458 - val_loss: 39879964.0000 - val_mae: 4083.8420\n",
      "Epoch 38/100\n",
      "30/30 [==============================] - 0s 2ms/step - loss: 54994212.0000 - mae: 5157.2812 - val_loss: 41473468.0000 - val_mae: 4141.4614\n",
      "Epoch 39/100\n",
      "30/30 [==============================] - 0s 2ms/step - loss: 54398996.0000 - mae: 5117.2070 - val_loss: 42493004.0000 - val_mae: 4176.8223\n",
      "Epoch 40/100\n",
      "30/30 [==============================] - 0s 2ms/step - loss: 55258480.0000 - mae: 5144.3003 - val_loss: 41231476.0000 - val_mae: 4129.4634\n",
      "Epoch 41/100\n",
      "30/30 [==============================] - 0s 2ms/step - loss: 54272148.0000 - mae: 5103.4355 - val_loss: 40796836.0000 - val_mae: 4061.0325\n",
      "Epoch 42/100\n",
      "30/30 [==============================] - 0s 2ms/step - loss: 54629868.0000 - mae: 5125.0811 - val_loss: 42695348.0000 - val_mae: 4195.8218\n",
      "Epoch 43/100\n",
      "30/30 [==============================] - 0s 2ms/step - loss: 54417836.0000 - mae: 5143.1211 - val_loss: 38984524.0000 - val_mae: 3972.8828\n",
      "Epoch 44/100\n",
      "30/30 [==============================] - 0s 2ms/step - loss: 56115596.0000 - mae: 5208.7876 - val_loss: 41360340.0000 - val_mae: 4106.4780\n",
      "Epoch 45/100\n",
      "30/30 [==============================] - 0s 2ms/step - loss: 53979320.0000 - mae: 5074.8516 - val_loss: 41513464.0000 - val_mae: 4050.7449\n",
      "Epoch 46/100\n",
      "30/30 [==============================] - 0s 2ms/step - loss: 53591540.0000 - mae: 5039.1841 - val_loss: 37941052.0000 - val_mae: 3919.5469\n",
      "Epoch 47/100\n",
      "30/30 [==============================] - 0s 2ms/step - loss: 53934012.0000 - mae: 5070.3960 - val_loss: 38174244.0000 - val_mae: 3902.1567\n",
      "Epoch 48/100\n",
      "30/30 [==============================] - 0s 2ms/step - loss: 54367704.0000 - mae: 5081.0010 - val_loss: 38394940.0000 - val_mae: 3940.5581\n",
      "Epoch 49/100\n",
      "30/30 [==============================] - 0s 2ms/step - loss: 54520484.0000 - mae: 5152.0796 - val_loss: 39454812.0000 - val_mae: 4036.4114\n",
      "Epoch 50/100\n",
      "30/30 [==============================] - 0s 2ms/step - loss: 54322708.0000 - mae: 5108.4087 - val_loss: 39837116.0000 - val_mae: 4066.0122\n",
      "Epoch 51/100\n",
      "30/30 [==============================] - 0s 2ms/step - loss: 52775800.0000 - mae: 4962.3301 - val_loss: 41043448.0000 - val_mae: 4112.8818\n",
      "Epoch 52/100\n",
      "30/30 [==============================] - 0s 2ms/step - loss: 53433200.0000 - mae: 5038.0244 - val_loss: 43146452.0000 - val_mae: 4220.8301\n",
      "Epoch 53/100\n",
      "30/30 [==============================] - 0s 2ms/step - loss: 53332184.0000 - mae: 5060.8887 - val_loss: 41458300.0000 - val_mae: 4157.5444\n",
      "Epoch 54/100\n",
      "30/30 [==============================] - 0s 2ms/step - loss: 54272204.0000 - mae: 5060.1333 - val_loss: 38755128.0000 - val_mae: 4007.7100\n",
      "Epoch 55/100\n",
      "30/30 [==============================] - 0s 2ms/step - loss: 54264060.0000 - mae: 5072.7549 - val_loss: 38168464.0000 - val_mae: 3942.2886\n",
      "Epoch 56/100\n",
      "30/30 [==============================] - 0s 2ms/step - loss: 55351244.0000 - mae: 5092.6978 - val_loss: 41365428.0000 - val_mae: 4081.3047\n",
      "Epoch 57/100\n",
      "30/30 [==============================] - 0s 2ms/step - loss: 54981128.0000 - mae: 5113.0977 - val_loss: 43058340.0000 - val_mae: 4163.1621\n",
      "Epoch 58/100\n",
      "30/30 [==============================] - 0s 2ms/step - loss: 52905488.0000 - mae: 4993.4390 - val_loss: 42648744.0000 - val_mae: 4155.9155\n",
      "Epoch 59/100\n",
      "30/30 [==============================] - 0s 2ms/step - loss: 54554184.0000 - mae: 5118.6797 - val_loss: 41919568.0000 - val_mae: 4160.2642\n",
      "Epoch 60/100\n",
      "30/30 [==============================] - 0s 2ms/step - loss: 55596048.0000 - mae: 5117.3354 - val_loss: 39853984.0000 - val_mae: 4053.0911\n",
      "Epoch 61/100\n",
      "30/30 [==============================] - 0s 2ms/step - loss: 54444576.0000 - mae: 5103.6919 - val_loss: 39383168.0000 - val_mae: 3977.9229\n",
      "Epoch 62/100\n",
      "30/30 [==============================] - 0s 2ms/step - loss: 54102672.0000 - mae: 5082.2979 - val_loss: 38874300.0000 - val_mae: 3977.0068\n",
      "Epoch 63/100\n",
      "30/30 [==============================] - 0s 2ms/step - loss: 53107900.0000 - mae: 4998.2622 - val_loss: 39765484.0000 - val_mae: 4050.8169\n",
      "Epoch 64/100\n",
      "30/30 [==============================] - 0s 2ms/step - loss: 54689328.0000 - mae: 5091.1934 - val_loss: 39328988.0000 - val_mae: 3986.4336\n",
      "Epoch 65/100\n",
      "30/30 [==============================] - 0s 2ms/step - loss: 54001272.0000 - mae: 5088.2329 - val_loss: 39825072.0000 - val_mae: 4058.6641\n",
      "Epoch 66/100\n",
      "30/30 [==============================] - 0s 2ms/step - loss: 55108716.0000 - mae: 5104.1768 - val_loss: 39065828.0000 - val_mae: 3971.8699\n",
      "Epoch 67/100\n",
      "30/30 [==============================] - 0s 2ms/step - loss: 55145852.0000 - mae: 5127.8589 - val_loss: 42133440.0000 - val_mae: 4102.0410\n",
      "Epoch 68/100\n",
      "30/30 [==============================] - 0s 2ms/step - loss: 55945340.0000 - mae: 5183.3022 - val_loss: 39916864.0000 - val_mae: 4034.6553\n",
      "Epoch 69/100\n",
      "30/30 [==============================] - 0s 2ms/step - loss: 54232528.0000 - mae: 5089.0820 - val_loss: 40151276.0000 - val_mae: 4068.8225\n",
      "Epoch 70/100\n",
      "30/30 [==============================] - 0s 2ms/step - loss: 55085564.0000 - mae: 5097.4731 - val_loss: 42265708.0000 - val_mae: 4145.1982\n",
      "Epoch 71/100\n",
      "30/30 [==============================] - 0s 2ms/step - loss: 55591324.0000 - mae: 5148.5303 - val_loss: 41699068.0000 - val_mae: 4106.0161\n",
      "Epoch 72/100\n",
      "30/30 [==============================] - 0s 2ms/step - loss: 55042984.0000 - mae: 5127.3657 - val_loss: 39962032.0000 - val_mae: 4007.4753\n",
      "Epoch 73/100\n",
      "30/30 [==============================] - 0s 2ms/step - loss: 52817592.0000 - mae: 5016.3677 - val_loss: 39711368.0000 - val_mae: 4021.2917\n",
      "Epoch 74/100\n",
      "30/30 [==============================] - 0s 2ms/step - loss: 53599128.0000 - mae: 5034.9014 - val_loss: 38843260.0000 - val_mae: 3990.3594\n",
      "Epoch 75/100\n",
      "30/30 [==============================] - 0s 2ms/step - loss: 55289896.0000 - mae: 5124.4497 - val_loss: 40357092.0000 - val_mae: 4083.5005\n",
      "Epoch 76/100\n",
      "30/30 [==============================] - 0s 2ms/step - loss: 53236032.0000 - mae: 4988.4888 - val_loss: 42142084.0000 - val_mae: 4143.8564\n",
      "Epoch 77/100\n",
      "30/30 [==============================] - 0s 2ms/step - loss: 54905252.0000 - mae: 5080.0737 - val_loss: 42747096.0000 - val_mae: 4149.2695\n",
      "Epoch 78/100\n",
      "30/30 [==============================] - 0s 3ms/step - loss: 55248472.0000 - mae: 5072.4902 - val_loss: 41238176.0000 - val_mae: 4086.1780\n",
      "Epoch 79/100\n",
      "30/30 [==============================] - 0s 3ms/step - loss: 53106808.0000 - mae: 5010.9717 - val_loss: 39064668.0000 - val_mae: 4022.5056\n",
      "Epoch 80/100\n",
      "30/30 [==============================] - 0s 3ms/step - loss: 53825888.0000 - mae: 5061.5708 - val_loss: 41606988.0000 - val_mae: 4039.6367\n",
      "Epoch 81/100\n",
      "30/30 [==============================] - 0s 3ms/step - loss: 54848608.0000 - mae: 5085.8936 - val_loss: 41421100.0000 - val_mae: 4049.7310\n",
      "Epoch 82/100\n",
      "30/30 [==============================] - 0s 3ms/step - loss: 54271220.0000 - mae: 5064.4849 - val_loss: 40091156.0000 - val_mae: 4101.5410\n",
      "Epoch 83/100\n",
      "30/30 [==============================] - 0s 3ms/step - loss: 54964544.0000 - mae: 5090.5430 - val_loss: 38180780.0000 - val_mae: 3960.7422\n",
      "Epoch 84/100\n",
      "30/30 [==============================] - 0s 3ms/step - loss: 55411132.0000 - mae: 5162.5454 - val_loss: 39182328.0000 - val_mae: 4007.8281\n",
      "Epoch 85/100\n",
      "30/30 [==============================] - 0s 3ms/step - loss: 55453872.0000 - mae: 5162.5156 - val_loss: 41446676.0000 - val_mae: 4170.3027\n",
      "Epoch 86/100\n",
      "30/30 [==============================] - 0s 3ms/step - loss: 54869148.0000 - mae: 5099.1509 - val_loss: 38276892.0000 - val_mae: 3930.0659\n",
      "Epoch 87/100\n",
      "30/30 [==============================] - 0s 3ms/step - loss: 53185596.0000 - mae: 4987.1943 - val_loss: 38655672.0000 - val_mae: 3974.1897\n",
      "Epoch 88/100\n",
      "30/30 [==============================] - 0s 3ms/step - loss: 55222112.0000 - mae: 5093.0005 - val_loss: 42375320.0000 - val_mae: 4140.5454\n",
      "Epoch 89/100\n",
      "30/30 [==============================] - 0s 3ms/step - loss: 54104384.0000 - mae: 5078.1445 - val_loss: 42895084.0000 - val_mae: 4234.8638\n",
      "Epoch 90/100\n",
      "30/30 [==============================] - 0s 3ms/step - loss: 55274720.0000 - mae: 5178.7852 - val_loss: 39520184.0000 - val_mae: 3994.7014\n",
      "Epoch 91/100\n",
      "30/30 [==============================] - 0s 3ms/step - loss: 53546024.0000 - mae: 5071.1016 - val_loss: 40224860.0000 - val_mae: 4015.8269\n",
      "Epoch 92/100\n",
      "30/30 [==============================] - 0s 3ms/step - loss: 53480564.0000 - mae: 5058.7134 - val_loss: 40996292.0000 - val_mae: 4132.1172\n",
      "Epoch 93/100\n",
      "30/30 [==============================] - 0s 3ms/step - loss: 53906444.0000 - mae: 5009.2368 - val_loss: 39868156.0000 - val_mae: 4036.2439\n",
      "Epoch 94/100\n",
      "30/30 [==============================] - 0s 3ms/step - loss: 55822796.0000 - mae: 5096.4736 - val_loss: 40730640.0000 - val_mae: 4059.2244\n",
      "Epoch 95/100\n",
      "30/30 [==============================] - 0s 3ms/step - loss: 54816312.0000 - mae: 5064.6299 - val_loss: 41797548.0000 - val_mae: 4080.2275\n",
      "Epoch 96/100\n",
      "30/30 [==============================] - 0s 3ms/step - loss: 53892672.0000 - mae: 5029.1743 - val_loss: 41515040.0000 - val_mae: 4079.1357\n",
      "Epoch 97/100\n",
      "30/30 [==============================] - 0s 3ms/step - loss: 55309560.0000 - mae: 5160.8462 - val_loss: 38828180.0000 - val_mae: 3975.3528\n",
      "Epoch 98/100\n",
      "30/30 [==============================] - 0s 3ms/step - loss: 54617580.0000 - mae: 5079.4404 - val_loss: 41224708.0000 - val_mae: 4088.8645\n",
      "Epoch 99/100\n",
      "30/30 [==============================] - 0s 3ms/step - loss: 54035516.0000 - mae: 5073.6973 - val_loss: 41682612.0000 - val_mae: 4148.6006\n",
      "Epoch 100/100\n",
      "30/30 [==============================] - 0s 3ms/step - loss: 55591264.0000 - mae: 5166.0366 - val_loss: 39489756.0000 - val_mae: 4089.9739\n",
      "13/13 [==============================] - 0s 895us/step - loss: 80285448.0000 - mae: 5781.6865\n",
      "Test MAE: 5781.69\n"
     ]
    },
    {
     "data": {
      "image/png": "[encoded data removed]",
      "text/plain": [
       "<Figure size 432x288 with 1 Axes>"
      ]
     },
     "metadata": {
      "needs_background": "light"
     },
     "output_type": "display_data"
    }
   ],
   "source": [
    "inputs = keras.Input(shape=(sequence_length, 1))\n",
    "outputs = layers.Dense(1)(inputs)\n",
    "ar_model = keras.Model(inputs, outputs)\n",
    "callbacks = [\n",
    "    keras.callbacks.ModelCheckpoint(\"ar_model.keras\",\n",
    "                                    save_best_only=True)\n",
    "]\n",
    "ar_model.compile(optimizer=\"rmsprop\", loss=\"mse\", metrics=[\"mae\"])\n",
    "history = ar_model.fit(train_dataset,\n",
    "                    epochs=100,\n",
    "                    validation_data=val_dataset,\n",
    "                    callbacks=callbacks)\n",
    "\n",
    "ar_model = keras.models.load_model(\"ar_model.keras\")\n",
    "print(f\"Test MAE: {ar_model.evaluate(test_dataset)[1]:.2f}\")\n",
    "plot_loss(history)"
   ]
  },
  {
   "cell_type": "markdown",
   "id": "56426172-a238-4966-a85f-d2f4d47b6b64",
   "metadata": {},
   "source": [
    "### 4.3 LSTM\n",
    "\n",
    "LSTM es una red neural recurrente, en donde la predicción viene dada por $\\hat{y}_{t+3} = f(y_{t}, y_{t-1}, ..., y_{t-p})$, donde $p$ es el largo de la secuencia el cual puede no ser fijo. Se utiliza el mismo largo de secuencia que en el modelo linal, es decir, $p=12$."
   ]
  },
  {
   "cell_type": "code",
   "execution_count": 18,
   "id": "d538bbe7-adad-447b-89dc-736fa276363e",
   "metadata": {},
   "outputs": [
    {
     "name": "stdout",
     "output_type": "stream",
     "text": [
      "Epoch 1/100\n",
      "30/30 [==============================] - 3s 27ms/step - loss: 287642464.0000 - mae: 16159.1328 - val_loss: 287609632.0000 - val_mae: 16158.1260\n",
      "Epoch 2/100\n",
      "30/30 [==============================] - 1s 16ms/step - loss: 287498688.0000 - mae: 16154.9385 - val_loss: 287396416.0000 - val_mae: 16151.5303\n",
      "Epoch 3/100\n",
      "30/30 [==============================] - 1s 17ms/step - loss: 287290208.0000 - mae: 16147.8252 - val_loss: 286998336.0000 - val_mae: 16139.1963\n",
      "Epoch 4/100\n",
      "30/30 [==============================] - 1s 16ms/step - loss: 286507104.0000 - mae: 16123.4141 - val_loss: 286162592.0000 - val_mae: 16113.2842\n",
      "Epoch 5/100\n",
      "30/30 [==============================] - 1s 16ms/step - loss: 285735808.0000 - mae: 16102.6201 - val_loss: 284938688.0000 - val_mae: 16075.2607\n",
      "Epoch 6/100\n",
      "30/30 [==============================] - 1s 18ms/step - loss: 284469408.0000 - mae: 16058.4121 - val_loss: 283131392.0000 - val_mae: 16018.9463\n",
      "Epoch 7/100\n",
      "30/30 [==============================] - 1s 20ms/step - loss: 281164672.0000 - mae: 15956.7949 - val_loss: 279903808.0000 - val_mae: 15917.8975\n",
      "Epoch 8/100\n",
      "30/30 [==============================] - 1s 20ms/step - loss: 276464192.0000 - mae: 15817.2734 - val_loss: 275197152.0000 - val_mae: 15769.3525\n",
      "Epoch 9/100\n",
      "30/30 [==============================] - 1s 20ms/step - loss: 272970336.0000 - mae: 15702.9766 - val_loss: 269358976.0000 - val_mae: 15583.1484\n",
      "Epoch 10/100\n",
      "30/30 [==============================] - 1s 20ms/step - loss: 263349840.0000 - mae: 15387.3643 - val_loss: 260389136.0000 - val_mae: 15292.6279\n",
      "Epoch 11/100\n",
      "30/30 [==============================] - 1s 44ms/step - loss: 260477200.0000 - mae: 15279.8555 - val_loss: 249920064.0000 - val_mae: 14946.4268\n",
      "Epoch 12/100\n",
      "30/30 [==============================] - 1s 44ms/step - loss: 244760608.0000 - mae: 14744.0420 - val_loss: 235603536.0000 - val_mae: 14459.5635\n",
      "Epoch 13/100\n",
      "30/30 [==============================] - 1s 29ms/step - loss: 231030800.0000 - mae: 14335.5498 - val_loss: 218288464.0000 - val_mae: 13847.8838\n",
      "Epoch 14/100\n",
      "30/30 [==============================] - 1s 24ms/step - loss: 213609968.0000 - mae: 13667.1924 - val_loss: 197420512.0000 - val_mae: 13072.7178\n",
      "Epoch 15/100\n",
      "30/30 [==============================] - 1s 20ms/step - loss: 186325520.0000 - mae: 12546.5781 - val_loss: 173131584.0000 - val_mae: 12108.1377\n",
      "Epoch 16/100\n",
      "30/30 [==============================] - 1s 18ms/step - loss: 170681312.0000 - mae: 11847.6553 - val_loss: 146532560.0000 - val_mae: 10954.8154\n",
      "Epoch 17/100\n",
      "30/30 [==============================] - 1s 16ms/step - loss: 140181376.0000 - mae: 10318.5361 - val_loss: 117479456.0000 - val_mae: 9537.0303\n",
      "Epoch 18/100\n",
      "30/30 [==============================] - 1s 20ms/step - loss: 104103008.0000 - mae: 8190.9810 - val_loss: 93331176.0000 - val_mae: 8173.5322\n",
      "Epoch 19/100\n",
      "30/30 [==============================] - 1s 20ms/step - loss: 97115456.0000 - mae: 7964.8413 - val_loss: 72170112.0000 - val_mae: 6756.1548\n",
      "Epoch 20/100\n",
      "30/30 [==============================] - 1s 20ms/step - loss: 84574816.0000 - mae: 7116.0459 - val_loss: 57032864.0000 - val_mae: 5560.6084\n",
      "Epoch 21/100\n",
      "30/30 [==============================] - 1s 21ms/step - loss: 67181864.0000 - mae: 6026.2417 - val_loss: 44891244.0000 - val_mae: 4442.3916\n",
      "Epoch 22/100\n",
      "30/30 [==============================] - 1s 20ms/step - loss: 77643248.0000 - mae: 6917.1504 - val_loss: 41360020.0000 - val_mae: 4128.2236\n",
      "Epoch 23/100\n",
      "30/30 [==============================] - 1s 16ms/step - loss: 81110720.0000 - mae: 6887.7441 - val_loss: 40070240.0000 - val_mae: 4018.2839\n",
      "Epoch 24/100\n",
      "30/30 [==============================] - 1s 17ms/step - loss: 75486640.0000 - mae: 6166.5527 - val_loss: 34349936.0000 - val_mae: 3528.8069\n",
      "Epoch 25/100\n",
      "30/30 [==============================] - 1s 20ms/step - loss: 76429664.0000 - mae: 6219.9209 - val_loss: 33974420.0000 - val_mae: 3497.7156\n",
      "Epoch 26/100\n",
      "30/30 [==============================] - 1s 19ms/step - loss: 74946088.0000 - mae: 6889.6597 - val_loss: 35726332.0000 - val_mae: 3636.8335\n",
      "Epoch 27/100\n",
      "30/30 [==============================] - 1s 19ms/step - loss: 77184032.0000 - mae: 6804.5786 - val_loss: 35722716.0000 - val_mae: 3636.5593\n",
      "Epoch 28/100\n",
      "30/30 [==============================] - 1s 20ms/step - loss: 72404984.0000 - mae: 6565.1328 - val_loss: 31534722.0000 - val_mae: 3303.7512\n",
      "Epoch 29/100\n",
      "30/30 [==============================] - 1s 25ms/step - loss: 57118076.0000 - mae: 5721.1387 - val_loss: 32390524.0000 - val_mae: 3369.8242\n",
      "Epoch 30/100\n",
      "30/30 [==============================] - 1s 28ms/step - loss: 69192928.0000 - mae: 6485.8135 - val_loss: 32200686.0000 - val_mae: 3355.0481\n",
      "Epoch 31/100\n",
      "30/30 [==============================] - 1s 23ms/step - loss: 59242080.0000 - mae: 5961.5024 - val_loss: 32531216.0000 - val_mae: 3381.0798\n",
      "Epoch 32/100\n",
      "30/30 [==============================] - 1s 19ms/step - loss: 61099168.0000 - mae: 5894.4170 - val_loss: 32314898.0000 - val_mae: 3363.7183\n",
      "Epoch 33/100\n",
      "30/30 [==============================] - 1s 21ms/step - loss: 52335988.0000 - mae: 5822.6147 - val_loss: 33177676.0000 - val_mae: 3433.8357\n",
      "Epoch 34/100\n",
      "30/30 [==============================] - 1s 23ms/step - loss: 65177008.0000 - mae: 5803.2900 - val_loss: 33396068.0000 - val_mae: 3451.6279\n",
      "Epoch 35/100\n",
      "30/30 [==============================] - 1s 23ms/step - loss: 61050200.0000 - mae: 5816.1196 - val_loss: 32722186.0000 - val_mae: 3396.1492\n",
      "Epoch 36/100\n",
      "30/30 [==============================] - 1s 20ms/step - loss: 61421884.0000 - mae: 5929.5205 - val_loss: 31669694.0000 - val_mae: 3314.4106\n",
      "Epoch 37/100\n",
      "30/30 [==============================] - 1s 20ms/step - loss: 55810828.0000 - mae: 5445.4565 - val_loss: 32694038.0000 - val_mae: 3393.9424\n",
      "Epoch 38/100\n",
      "30/30 [==============================] - 1s 24ms/step - loss: 56877896.0000 - mae: 5664.2881 - val_loss: 30587860.0000 - val_mae: 3228.9514\n",
      "Epoch 39/100\n",
      "30/30 [==============================] - 1s 19ms/step - loss: 73599592.0000 - mae: 6714.4795 - val_loss: 30897698.0000 - val_mae: 3252.0864\n",
      "Epoch 40/100\n",
      "30/30 [==============================] - 1s 19ms/step - loss: 68658520.0000 - mae: 6430.1602 - val_loss: 31244902.0000 - val_mae: 3280.3643\n",
      "Epoch 41/100\n",
      "30/30 [==============================] - 1s 24ms/step - loss: 65476672.0000 - mae: 6115.4048 - val_loss: 31415826.0000 - val_mae: 3294.2405\n",
      "Epoch 42/100\n",
      "30/30 [==============================] - 1s 23ms/step - loss: 82046776.0000 - mae: 6928.6250 - val_loss: 32055982.0000 - val_mae: 3344.1699\n",
      "Epoch 43/100\n",
      "30/30 [==============================] - 1s 21ms/step - loss: 51761396.0000 - mae: 5491.4038 - val_loss: 33221254.0000 - val_mae: 3437.4089\n",
      "Epoch 44/100\n",
      "30/30 [==============================] - 1s 20ms/step - loss: 48743728.0000 - mae: 5475.0693 - val_loss: 29452548.0000 - val_mae: 3173.7971\n",
      "Epoch 45/100\n",
      "30/30 [==============================] - 1s 25ms/step - loss: 60092412.0000 - mae: 5792.0112 - val_loss: 28213010.0000 - val_mae: 3141.3318\n",
      "Epoch 46/100\n",
      "30/30 [==============================] - 1s 20ms/step - loss: 66479132.0000 - mae: 6280.6206 - val_loss: 29850358.0000 - val_mae: 3188.2129\n",
      "Epoch 47/100\n",
      "30/30 [==============================] - 1s 19ms/step - loss: 88021200.0000 - mae: 6883.5581 - val_loss: 31100358.0000 - val_mae: 3268.4333\n",
      "Epoch 48/100\n",
      "30/30 [==============================] - 1s 23ms/step - loss: 91264288.0000 - mae: 6967.8047 - val_loss: 33260652.0000 - val_mae: 3440.6299\n",
      "Epoch 49/100\n",
      "30/30 [==============================] - 1s 20ms/step - loss: 60280356.0000 - mae: 6316.1606 - val_loss: 32160412.0000 - val_mae: 3352.0349\n",
      "Epoch 50/100\n",
      "30/30 [==============================] - 1s 19ms/step - loss: 76425488.0000 - mae: 6520.7749 - val_loss: 34780220.0000 - val_mae: 3563.5317\n",
      "Epoch 51/100\n",
      "30/30 [==============================] - 1s 23ms/step - loss: 60168844.0000 - mae: 6158.4116 - val_loss: 30309458.0000 - val_mae: 3211.2781\n",
      "Epoch 52/100\n",
      "30/30 [==============================] - 1s 20ms/step - loss: 69743376.0000 - mae: 6646.4141 - val_loss: 30184926.0000 - val_mae: 3204.9053\n",
      "Epoch 53/100\n",
      "30/30 [==============================] - 1s 19ms/step - loss: 75859144.0000 - mae: 6731.1250 - val_loss: 32456916.0000 - val_mae: 3375.1514\n",
      "Epoch 54/100\n",
      "30/30 [==============================] - 1s 23ms/step - loss: 63899204.0000 - mae: 5784.8286 - val_loss: 31749220.0000 - val_mae: 3320.6260\n",
      "Epoch 55/100\n",
      "30/30 [==============================] - 1s 20ms/step - loss: 75509360.0000 - mae: 6752.9087 - val_loss: 31674344.0000 - val_mae: 3314.7749\n",
      "Epoch 56/100\n",
      "30/30 [==============================] - 1s 20ms/step - loss: 72423552.0000 - mae: 6749.8057 - val_loss: 31775440.0000 - val_mae: 3322.6653\n",
      "Epoch 57/100\n",
      "30/30 [==============================] - 1s 23ms/step - loss: 64515012.0000 - mae: 6467.7349 - val_loss: 33182904.0000 - val_mae: 3434.2644\n",
      "Epoch 58/100\n",
      "30/30 [==============================] - 1s 20ms/step - loss: 74609216.0000 - mae: 6980.3931 - val_loss: 33277188.0000 - val_mae: 3441.9792\n",
      "Epoch 59/100\n",
      "30/30 [==============================] - 1s 20ms/step - loss: 69407424.0000 - mae: 5972.2920 - val_loss: 33392692.0000 - val_mae: 3451.3555\n",
      "Epoch 60/100\n",
      "30/30 [==============================] - 1s 23ms/step - loss: 56275044.0000 - mae: 5569.9927 - val_loss: 31295078.0000 - val_mae: 3284.4644\n",
      "Epoch 61/100\n",
      "30/30 [==============================] - 1s 20ms/step - loss: 68980904.0000 - mae: 6152.6035 - val_loss: 32284856.0000 - val_mae: 3361.3132\n",
      "Epoch 62/100\n",
      "30/30 [==============================] - 1s 19ms/step - loss: 65720164.0000 - mae: 5959.1338 - val_loss: 31417554.0000 - val_mae: 3294.3801\n",
      "Epoch 63/100\n",
      "30/30 [==============================] - 1s 23ms/step - loss: 60432156.0000 - mae: 5671.8125 - val_loss: 31801650.0000 - val_mae: 3324.6992\n",
      "Epoch 64/100\n",
      "30/30 [==============================] - 1s 23ms/step - loss: 57150908.0000 - mae: 5854.7275 - val_loss: 30429048.0000 - val_mae: 3218.8101\n",
      "Epoch 65/100\n",
      "30/30 [==============================] - 1s 22ms/step - loss: 75443768.0000 - mae: 6969.5791 - val_loss: 31208280.0000 - val_mae: 3277.3594\n",
      "Epoch 66/100\n",
      "30/30 [==============================] - 1s 19ms/step - loss: 78929832.0000 - mae: 7044.5991 - val_loss: 32798922.0000 - val_mae: 3402.2690\n",
      "Epoch 67/100\n",
      "30/30 [==============================] - 1s 23ms/step - loss: 71986632.0000 - mae: 6366.8521 - val_loss: 32792040.0000 - val_mae: 3401.6865\n",
      "Epoch 68/100\n",
      "30/30 [==============================] - 1s 21ms/step - loss: 69751536.0000 - mae: 6208.6079 - val_loss: 31805130.0000 - val_mae: 3324.9668\n",
      "Epoch 69/100\n",
      "30/30 [==============================] - 1s 19ms/step - loss: 72803856.0000 - mae: 6311.6567 - val_loss: 34629928.0000 - val_mae: 3551.5085\n",
      "Epoch 70/100\n",
      "30/30 [==============================] - 0s 16ms/step - loss: 71225320.0000 - mae: 5785.3076 - val_loss: 34664864.0000 - val_mae: 3554.3120\n",
      "Epoch 71/100\n",
      "30/30 [==============================] - 0s 15ms/step - loss: 63524596.0000 - mae: 6141.1694 - val_loss: 33407840.0000 - val_mae: 3452.5801\n",
      "Epoch 72/100\n",
      "30/30 [==============================] - 1s 19ms/step - loss: 61011772.0000 - mae: 5996.1387 - val_loss: 31682166.0000 - val_mae: 3315.3894\n",
      "Epoch 73/100\n",
      "30/30 [==============================] - 1s 19ms/step - loss: 74867320.0000 - mae: 6399.6919 - val_loss: 32713160.0000 - val_mae: 3395.4407\n",
      "Epoch 74/100\n",
      "30/30 [==============================] - 1s 19ms/step - loss: 76181896.0000 - mae: 7006.3022 - val_loss: 32873976.0000 - val_mae: 3408.5986\n",
      "Epoch 75/100\n",
      "30/30 [==============================] - 1s 19ms/step - loss: 45678192.0000 - mae: 5113.8735 - val_loss: 31785504.0000 - val_mae: 3323.4470\n",
      "Epoch 76/100\n",
      "30/30 [==============================] - 1s 19ms/step - loss: 57185140.0000 - mae: 5667.4097 - val_loss: 31534754.0000 - val_mae: 3303.7529\n",
      "Epoch 77/100\n",
      "30/30 [==============================] - 1s 31ms/step - loss: 48373344.0000 - mae: 5405.7256 - val_loss: 32200268.0000 - val_mae: 3355.0178\n",
      "Epoch 78/100\n",
      "30/30 [==============================] - 1s 24ms/step - loss: 72606880.0000 - mae: 6415.1240 - val_loss: 31936982.0000 - val_mae: 3335.1162\n",
      "Epoch 79/100\n",
      "30/30 [==============================] - 1s 29ms/step - loss: 57795412.0000 - mae: 5727.5273 - val_loss: 29522002.0000 - val_mae: 3176.1914\n",
      "Epoch 80/100\n",
      "30/30 [==============================] - 1s 26ms/step - loss: 83695336.0000 - mae: 6949.8003 - val_loss: 31054162.0000 - val_mae: 3264.5803\n",
      "Epoch 81/100\n",
      "30/30 [==============================] - 1s 23ms/step - loss: 68247560.0000 - mae: 6524.1348 - val_loss: 31084382.0000 - val_mae: 3267.1023\n",
      "Epoch 82/100\n",
      "30/30 [==============================] - 1s 19ms/step - loss: 68124920.0000 - mae: 6513.2622 - val_loss: 33864076.0000 - val_mae: 3488.8318\n",
      "Epoch 83/100\n",
      "30/30 [==============================] - 1s 22ms/step - loss: 67242624.0000 - mae: 6295.5439 - val_loss: 35444152.0000 - val_mae: 3615.3821\n",
      "Epoch 84/100\n",
      "30/30 [==============================] - 1s 22ms/step - loss: 62026444.0000 - mae: 6364.2324 - val_loss: 33175740.0000 - val_mae: 3433.6755\n",
      "Epoch 85/100\n",
      "30/30 [==============================] - 1s 19ms/step - loss: 63466872.0000 - mae: 5997.8555 - val_loss: 31985014.0000 - val_mae: 3338.7815\n",
      "Epoch 86/100\n",
      "30/30 [==============================] - 1s 22ms/step - loss: 76813992.0000 - mae: 6179.5420 - val_loss: 32083306.0000 - val_mae: 3346.2354\n",
      "Epoch 87/100\n",
      "30/30 [==============================] - 1s 22ms/step - loss: 58908228.0000 - mae: 5921.1992 - val_loss: 30265238.0000 - val_mae: 3208.7971\n",
      "Epoch 88/100\n",
      "30/30 [==============================] - 1s 19ms/step - loss: 58776052.0000 - mae: 5836.3999 - val_loss: 29013172.0000 - val_mae: 3159.2498\n",
      "Epoch 89/100\n",
      "30/30 [==============================] - 1s 22ms/step - loss: 66064600.0000 - mae: 6333.2090 - val_loss: 28847048.0000 - val_mae: 3154.7104\n",
      "Epoch 90/100\n",
      "30/30 [==============================] - 1s 22ms/step - loss: 66902020.0000 - mae: 6234.8716 - val_loss: 28557608.0000 - val_mae: 3146.3948\n",
      "Epoch 91/100\n",
      "30/30 [==============================] - 1s 20ms/step - loss: 62527908.0000 - mae: 6278.8818 - val_loss: 28725478.0000 - val_mae: 3151.2849\n",
      "Epoch 92/100\n",
      "30/30 [==============================] - 1s 23ms/step - loss: 68231584.0000 - mae: 6365.0527 - val_loss: 29973068.0000 - val_mae: 3194.4290\n",
      "Epoch 93/100\n",
      "30/30 [==============================] - 1s 22ms/step - loss: 49245220.0000 - mae: 5240.3018 - val_loss: 29939964.0000 - val_mae: 3192.7632\n",
      "Epoch 94/100\n",
      "30/30 [==============================] - 1s 19ms/step - loss: 66677812.0000 - mae: 6237.9570 - val_loss: 30107684.0000 - val_mae: 3201.1216\n",
      "Epoch 95/100\n",
      "30/30 [==============================] - 1s 23ms/step - loss: 84729688.0000 - mae: 6992.3940 - val_loss: 33468350.0000 - val_mae: 3457.4563\n",
      "Epoch 96/100\n",
      "30/30 [==============================] - 1s 21ms/step - loss: 68560576.0000 - mae: 6200.1045 - val_loss: 31296878.0000 - val_mae: 3284.6099\n",
      "Epoch 97/100\n",
      "30/30 [==============================] - 1s 20ms/step - loss: 78189160.0000 - mae: 6432.6099 - val_loss: 32145300.0000 - val_mae: 3350.9019\n",
      "Epoch 98/100\n",
      "30/30 [==============================] - 1s 23ms/step - loss: 71002560.0000 - mae: 6235.0366 - val_loss: 31907502.0000 - val_mae: 3332.8582\n",
      "Epoch 99/100\n",
      "30/30 [==============================] - 1s 23ms/step - loss: 65995296.0000 - mae: 5983.2666 - val_loss: 31277440.0000 - val_mae: 3283.0249\n",
      "Epoch 100/100\n",
      "30/30 [==============================] - 1s 24ms/step - loss: 78812288.0000 - mae: 6958.8247 - val_loss: 30145168.0000 - val_mae: 3202.9626\n",
      "30/30 [==============================] - 1s 3ms/step - loss: 28213010.0000 - mae: 3141.3318\n",
      "Test MAE: 3141.33\n"
     ]
    },
    {
     "data": {
      "image/png": "[encoded data removed]",
      "text/plain": [
       "<Figure size 432x288 with 1 Axes>"
      ]
     },
     "metadata": {
      "needs_background": "light"
     },
     "output_type": "display_data"
    }
   ],
   "source": [
    "inputs = tf.keras.Input(shape=(sequence_length, 1))\n",
    "x = layers.LSTM(64, recurrent_dropout=0.2, return_sequences=True)(inputs)\n",
    "x = layers.LSTM(64, recurrent_dropout=0.2)(x)\n",
    "x = layers.Dense(64, activation=\"relu\")(x)\n",
    "x = layers.Dropout(0.5)(x)\n",
    "x = layers.Dense(32, activation=\"relu\")(x)\n",
    "x = layers.Dropout(0.5)(x)\n",
    "x = layers.Dense(16, activation=\"relu\")(x)\n",
    "x = layers.Dropout(0.5)(x)\n",
    "outputs = layers.Dense(1)(x)\n",
    "lstm_model = keras.Model(inputs, outputs)\n",
    "callbacks = [\n",
    "    keras.callbacks.ModelCheckpoint(\"lstm_model.keras\",\n",
    "                                    save_best_only=True)\n",
    "]\n",
    "lstm_model.compile(optimizer=\"rmsprop\", loss=\"mse\", metrics=[\"mae\"])\n",
    "history = lstm_model.fit(train_dataset,\n",
    "                         epochs=100,\n",
    "                         validation_data=train_dataset,\n",
    "                         callbacks=callbacks)\n",
    "lstm_model = keras.models.load_model(\"lstm_model.keras\")\n",
    "print(f\"Test MAE: {lstm_model.evaluate(train_dataset)[1]:.2f}\")\n",
    "plot_loss(history)"
   ]
  },
  {
   "cell_type": "code",
   "execution_count": 691,
   "id": "42278da5-8663-4789-8556-81987df49f67",
   "metadata": {},
   "outputs": [
    {
     "data": {
      "text/html": [
       "<div>\n",
       "<style scoped>\n",
       "    .dataframe tbody tr th:only-of-type {\n",
       "        vertical-align: middle;\n",
       "    }\n",
       "\n",
       "    .dataframe tbody tr th {\n",
       "        vertical-align: top;\n",
       "    }\n",
       "\n",
       "    .dataframe thead th {\n",
       "        text-align: right;\n",
       "    }\n",
       "</style>\n",
       "<table border=\"1\" class=\"dataframe\">\n",
       "  <thead>\n",
       "    <tr style=\"text-align: right;\">\n",
       "      <th></th>\n",
       "      <th>FECHA</th>\n",
       "      <th>VENTAS</th>\n",
       "    </tr>\n",
       "  </thead>\n",
       "  <tbody>\n",
       "    <tr>\n",
       "      <th>43</th>\n",
       "      <td>2017-09-13</td>\n",
       "      <td>9454.000000</td>\n",
       "    </tr>\n",
       "    <tr>\n",
       "      <th>46</th>\n",
       "      <td>2017-09-16</td>\n",
       "      <td>9775.000000</td>\n",
       "    </tr>\n",
       "    <tr>\n",
       "      <th>140</th>\n",
       "      <td>2017-12-23</td>\n",
       "      <td>9430.000000</td>\n",
       "    </tr>\n",
       "    <tr>\n",
       "      <th>146</th>\n",
       "      <td>2017-12-30</td>\n",
       "      <td>9694.000000</td>\n",
       "    </tr>\n",
       "    <tr>\n",
       "      <th>403</th>\n",
       "      <td>2018-09-15</td>\n",
       "      <td>10878.000000</td>\n",
       "    </tr>\n",
       "    <tr>\n",
       "      <th>506</th>\n",
       "      <td>2018-12-30</td>\n",
       "      <td>9515.000000</td>\n",
       "    </tr>\n",
       "    <tr>\n",
       "      <th>762</th>\n",
       "      <td>2019-09-14</td>\n",
       "      <td>9362.665071</td>\n",
       "    </tr>\n",
       "    <tr>\n",
       "      <th>764</th>\n",
       "      <td>2019-09-16</td>\n",
       "      <td>9632.299988</td>\n",
       "    </tr>\n",
       "    <tr>\n",
       "      <th>765</th>\n",
       "      <td>2019-09-17</td>\n",
       "      <td>9786.519964</td>\n",
       "    </tr>\n",
       "  </tbody>\n",
       "</table>\n",
       "</div>"
      ],
      "text/plain": [
       "         FECHA        VENTAS\n",
       "43  2017-09-13   9454.000000\n",
       "46  2017-09-16   9775.000000\n",
       "140 2017-12-23   9430.000000\n",
       "146 2017-12-30   9694.000000\n",
       "403 2018-09-15  10878.000000\n",
       "506 2018-12-30   9515.000000\n",
       "762 2019-09-14   9362.665071\n",
       "764 2019-09-16   9632.299988\n",
       "765 2019-09-17   9786.519964"
      ]
     },
     "execution_count": 691,
     "metadata": {},
     "output_type": "execute_result"
    }
   ],
   "source": [
    "df[df.VENTAS > 9000]"
   ]
  },
  {
   "cell_type": "markdown",
   "id": "97424f6f-36f2-46aa-8255-fa034ba98193",
   "metadata": {},
   "source": [
    "## 5. Conclusión\n",
    "\n",
    "Se escoge el modelo con mejor capacidad de generalización, es decir, el que posee mejor desempeño en el conjunto de test, el cual viene siendo LSTM con un MAE de 3141.33, al cual le sigue Linear Model con 5781.69 y por último el Baseline con 7006.79. En caso que la interpretabilidad sea importante se sugiere escoger el modelo lineal, ya que los parámetros estimados dan una idea de la importancia de los lags.\n",
    "\n",
    "El modelo escogido se desempeña de manera aceptable teniendo en cuenta que la demanda promedio es 15730, por lo que en promedio nos equivocaremos en 3141 unidades. Sin embargo, este modelo se podría mejorar ingestando otro tipo de información, como fechas de partidos de futboll, ofertas y otro tipo de información que el negocio considere relevante. Adicionalmente, se identifica que en dos momentos del año se obtiene un pick considerable de demanda, estas fechas considen con la semana/s 18 de Septiembre y Navidad-Año Nuevo. Se sugiere tratar esas semanas anómalas y escasas en datos con una heurística (ej: promedio de años anteriores).\n",
    "\n",
    "Para manejar un aumento importante en la cantidad de este tipo de problemas es necesario desarrollar soluciones fáciles de automatizar. Una de las razones por la que Machine Learning ha sido tan exitoso (a parte de la gran disponibilidad de datos y cómputo) es que permite escalar soluciones analíticas sin la necesidad de programar la solución de forma explícita, característica de la cual carece el paradigma tradicional de AI, en donde problemas analíticos complejos se vuelven en un monton de reglas (if/else) que rápidamente escalan en complejidad y se vuelven difíciles de gestionar. En línea con lo mencionado anteriormente, para escalar la solución a múltiples productos y países se debe desarrollar un engranaje de MLOps. Por ejemplo, un equipo desarrolla un modelo genérico, con cierta flexibilidad a nivel de input(ej: más/menos columnas, features), de esta manera el equipo que desarrolla el modelo puede gatillar con un pull request múltiples reentrenamientos en paralelo del mismo modelo en múltiples conjuntos de datos, reemplazando los modelos antiguos, luego estos modelos son llamados períodicamente por un aplicativo de orquestación (ej: Airflow) para escribir las predicciones en un base de datos."
   ]
  }
 ],
 "metadata": {
  "kernelspec": {
   "display_name": "Python 3 (ipykernel)",
   "language": "python",
   "name": "python3"
  },
  "language_info": {
   "codemirror_mode": {
    "name": "ipython",
    "version": 3
   },
   "file_extension": ".py",
   "mimetype": "text/x-python",
   "name": "python",
   "nbconvert_exporter": "python",
   "pygments_lexer": "ipython3",
   "version": "3.9.12"
  }
 },
 "nbformat": 4,
 "nbformat_minor": 5
}
