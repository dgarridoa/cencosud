{
 "cells": [
  {
   "cell_type": "markdown",
   "id": "1eb76494-0528-471b-9598-63ff073c9120",
   "metadata": {},
   "source": [
    "#  Predección de demanda semana de carnes en la tienda 1\n",
    "\n",
    "El objetivo del problema es predecir la demanda semanal de carnes de la tienda 1 con dos semanas de anticipación. Se asume que las ordenes se realizan los Viernes en horario am, por lo que no se conoce la demanda de ese día. Por ejemplo, si la orden se hizó el 2019-12-13 esta llegará el 2019-12-27, siendo las ventas del 2019-12-12 hacia atras conocidas. "
   ]
  },
  {
   "cell_type": "code",
   "execution_count": 1,
   "id": "2237346e-df73-4248-bcba-cedd11be2653",
   "metadata": {},
   "outputs": [
    {
     "name": "stderr",
     "output_type": "stream",
     "text": [
      "2022-05-16 14:35:52.582897: W tensorflow/stream_executor/platform/default/dso_loader.cc:64] Could not load dynamic library 'libcudart.so.11.0'; dlerror: libcudart.so.11.0: cannot open shared object file: No such file or directory\n",
      "2022-05-16 14:35:52.582911: I tensorflow/stream_executor/cuda/cudart_stub.cc:29] Ignore above cudart dlerror if you do not have a GPU set up on your machine.\n"
     ]
    }
   ],
   "source": [
    "import pandas as pd\n",
    "import numpy as np\n",
    "import tensorflow as tf\n",
    "import matplotlib.pyplot as plt\n",
    "from datetime import timedelta\n",
    "from sqlalchemy import create_engine\n",
    "from tensorflow import keras\n",
    "from tensorflow.keras import layers"
   ]
  },
  {
   "cell_type": "markdown",
   "id": "0664cd74-ef9e-4f0a-a099-81e61d14c789",
   "metadata": {},
   "source": [
    "## 1. Obtener los ventas de la Tienda 1 en la categoría \"CARNES\""
   ]
  },
  {
   "cell_type": "code",
   "execution_count": 692,
   "id": "ce91e1b6-bd6b-405e-864b-a9d25172d93d",
   "metadata": {},
   "outputs": [],
   "source": [
    "engine = create_engine(\"sqlite:///problemas_seleccion.db\")\n",
    "conection = engine.connect()\n",
    "query = \"\"\"\n",
    "    SELECT \n",
    "      tv.fecha,\n",
    "      tv.ventas\n",
    "    FROM TABLA_VENTAS AS tv\n",
    "    INNER JOIN TABLA_CATEGORIAS AS tc\n",
    "    ON tv.tienda = 1\n",
    "      AND tv.id_categoria = tc.id_categoria\n",
    "      AND tc.categoria = \"CARNES\"\n",
    "    \"\"\"\n",
    "df = pd.read_sql(query, engine, parse_dates=[\"FECHA\"])"
   ]
  },
  {
   "cell_type": "markdown",
   "id": "6954bbc3-5ecd-40f7-991b-39cd187b3c5f",
   "metadata": {},
   "source": [
    "## 2. Descripción de la base de datos"
   ]
  },
  {
   "cell_type": "code",
   "execution_count": 693,
   "id": "0b8c42f6-5b52-4ad0-b5d7-29e8dc5d3ac3",
   "metadata": {},
   "outputs": [
    {
     "data": {
      "text/plain": [
       "(       FECHA  VENTAS\n",
       " 0 2017-08-01  1142.0\n",
       " 1 2017-08-02  1079.0\n",
       " 2 2017-08-03  1096.0\n",
       " 3 2017-08-04  2430.0\n",
       " 4 2017-08-05  4261.0,\n",
       "          FECHA       VENTAS\n",
       " 847 2019-12-11  1290.206994\n",
       " 848 2019-12-12  1387.618000\n",
       " 849 2019-12-13  2535.910981\n",
       " 850 2019-12-14  4388.873985\n",
       " 851 2019-12-15  3643.656030)"
      ]
     },
     "execution_count": 693,
     "metadata": {},
     "output_type": "execute_result"
    }
   ],
   "source": [
    "df.head(), df.tail()"
   ]
  },
  {
   "cell_type": "code",
   "execution_count": 4,
   "id": "167d919e-619d-4e94-9b37-b5976d865a2d",
   "metadata": {},
   "outputs": [
    {
     "name": "stdout",
     "output_type": "stream",
     "text": [
      "<class 'pandas.core.frame.DataFrame'>\n",
      "RangeIndex: 852 entries, 0 to 851\n",
      "Data columns (total 2 columns):\n",
      " #   Column  Non-Null Count  Dtype         \n",
      "---  ------  --------------  -----         \n",
      " 0   FECHA   852 non-null    datetime64[ns]\n",
      " 1   VENTAS  852 non-null    float64       \n",
      "dtypes: datetime64[ns](1), float64(1)\n",
      "memory usage: 13.4 KB\n"
     ]
    }
   ],
   "source": [
    "df.info()"
   ]
  },
  {
   "cell_type": "code",
   "execution_count": 5,
   "id": "c8c8bb1e-56e3-47b4-bfa0-1a7ffbd81bd7",
   "metadata": {},
   "outputs": [
    {
     "data": {
      "text/html": [
       "<div>\n",
       "<style scoped>\n",
       "    .dataframe tbody tr th:only-of-type {\n",
       "        vertical-align: middle;\n",
       "    }\n",
       "\n",
       "    .dataframe tbody tr th {\n",
       "        vertical-align: top;\n",
       "    }\n",
       "\n",
       "    .dataframe thead th {\n",
       "        text-align: right;\n",
       "    }\n",
       "</style>\n",
       "<table border=\"1\" class=\"dataframe\">\n",
       "  <thead>\n",
       "    <tr style=\"text-align: right;\">\n",
       "      <th></th>\n",
       "      <th>VENTAS</th>\n",
       "    </tr>\n",
       "  </thead>\n",
       "  <tbody>\n",
       "    <tr>\n",
       "      <th>count</th>\n",
       "      <td>852.000000</td>\n",
       "    </tr>\n",
       "    <tr>\n",
       "      <th>mean</th>\n",
       "      <td>2287.154957</td>\n",
       "    </tr>\n",
       "    <tr>\n",
       "      <th>std</th>\n",
       "      <td>1605.793504</td>\n",
       "    </tr>\n",
       "    <tr>\n",
       "      <th>min</th>\n",
       "      <td>362.000000</td>\n",
       "    </tr>\n",
       "    <tr>\n",
       "      <th>25%</th>\n",
       "      <td>1086.000000</td>\n",
       "    </tr>\n",
       "    <tr>\n",
       "      <th>50%</th>\n",
       "      <td>1799.688996</td>\n",
       "    </tr>\n",
       "    <tr>\n",
       "      <th>75%</th>\n",
       "      <td>3008.363742</td>\n",
       "    </tr>\n",
       "    <tr>\n",
       "      <th>max</th>\n",
       "      <td>10878.000000</td>\n",
       "    </tr>\n",
       "  </tbody>\n",
       "</table>\n",
       "</div>"
      ],
      "text/plain": [
       "             VENTAS\n",
       "count    852.000000\n",
       "mean    2287.154957\n",
       "std     1605.793504\n",
       "min      362.000000\n",
       "25%     1086.000000\n",
       "50%     1799.688996\n",
       "75%     3008.363742\n",
       "max    10878.000000"
      ]
     },
     "execution_count": 5,
     "metadata": {},
     "output_type": "execute_result"
    }
   ],
   "source": [
    "df.describe()"
   ]
  },
  {
   "cell_type": "code",
   "execution_count": 6,
   "id": "c7cb0f14-a88f-4609-8f9d-e9f5b7194329",
   "metadata": {},
   "outputs": [
    {
     "data": {
      "text/plain": [
       "FECHA     0\n",
       "VENTAS    0\n",
       "dtype: int64"
      ]
     },
     "execution_count": 6,
     "metadata": {},
     "output_type": "execute_result"
    }
   ],
   "source": [
    "df.isna().sum()"
   ]
  },
  {
   "cell_type": "code",
   "execution_count": 7,
   "id": "eeef7dcf-936c-498c-a7cb-7ebe86be4aeb",
   "metadata": {},
   "outputs": [
    {
     "data": {
      "text/plain": [
       "(Timestamp('2017-08-01 00:00:00'), Timestamp('2019-12-15 00:00:00'))"
      ]
     },
     "execution_count": 7,
     "metadata": {},
     "output_type": "execute_result"
    }
   ],
   "source": [
    "df.FECHA.min(), df.FECHA.max()"
   ]
  },
  {
   "cell_type": "code",
   "execution_count": 8,
   "id": "dca6c57b-5905-4f58-917b-4bc77802e53c",
   "metadata": {},
   "outputs": [
    {
     "data": {
      "text/plain": [
       "Timedelta('866 days 00:00:00')"
      ]
     },
     "execution_count": 8,
     "metadata": {},
     "output_type": "execute_result"
    }
   ],
   "source": [
    "df.FECHA.max()-df.FECHA.min()"
   ]
  },
  {
   "cell_type": "markdown",
   "id": "fcb32659-531d-4b7e-9b1a-b2b5fa1de62a",
   "metadata": {},
   "source": [
    "## 3. Eleccción de métrica de desempeño y división del conjunto de los datos en train, validation y test.\n",
    "\n",
    "La métrica que se escoge es el MAE (Mean Absolute Error), la cual corresponde al promedio de los errores absolutos entre las prediciones y el valor real. El MAE penaliza de igual manera la sobreestimación y subestimación de la demanda, por lo que si estos costos no son simétricos se sugiere utilizar costos estimados que reflejen el objetivo de negocio.\n",
    "\n",
    "\n",
    "En primer lugar, se agrupan las ventas por semana teniendo en cuenta que la semana empieza un Viernes y termina un Jueves, ya que los pedidos se hacen los Viernes y llegan el mismo dia en dos semanas más. En segundo lugar, se dividen los datos en entrenamiento, validación y test, con el objetivo de calibrar parámetros, hiperparámetros y evaluar la capacidad de generalización. Además, al ser un problema de serie de tiempo el orden importa, por ende dichos conjuntos deben mantener un orden."
   ]
  },
  {
   "cell_type": "code",
   "execution_count": 9,
   "id": "e7071026-9342-4b8f-b0d6-242885574b2c",
   "metadata": {},
   "outputs": [],
   "source": [
    "dates = df.FECHA[3:-3]\n",
    "dates.reset_index(drop=True, inplace=True)\n",
    "intervals = []\n",
    "start_date = dates[0]\n",
    "end_date = dates[len(dates)-1]\n",
    "\n",
    "while start_date < end_date:\n",
    "    lb = start_date\n",
    "    up = lb + timedelta(days=7)\n",
    "    intervals.append((lb, up))\n",
    "    start_date = start_date + timedelta(days=7)\n",
    "    \n",
    "weekly_serie = np.zeros(len(intervals))\n",
    "for i, (lb, up) in enumerate(intervals):\n",
    "    weekly_serie[i] = df[(df.FECHA >= lb) & (df.FECHA < up)].VENTAS.sum()"
   ]
  },
  {
   "cell_type": "code",
   "execution_count": 10,
   "id": "af903065-a69d-4596-a16b-bf2b2de8611b",
   "metadata": {},
   "outputs": [
    {
     "data": {
      "text/plain": [
       "(15729.842136059411, 5631.106545178412)"
      ]
     },
     "execution_count": 10,
     "metadata": {},
     "output_type": "execute_result"
    }
   ],
   "source": [
    "weekly_serie.mean(), weekly_serie.std()"
   ]
  },
  {
   "cell_type": "code",
   "execution_count": 11,
   "id": "82e4cf33-42fb-4df2-84be-aead230afcb1",
   "metadata": {},
   "outputs": [
    {
     "data": {
      "text/plain": [
       "[<matplotlib.lines.Line2D at 0x7f2982d03760>]"
      ]
     },
     "execution_count": 11,
     "metadata": {},
     "output_type": "execute_result"
    },
    {
     "data": {
      "image/png": "[encoded data removed]",
      "text/plain": [
       "<Figure size 432x288 with 1 Axes>"
      ]
     },
     "metadata": {
      "needs_background": "light"
     },
     "output_type": "display_data"
    }
   ],
   "source": [
    "plt.plot(weekly_serie)"
   ]
  },
  {
   "cell_type": "code",
   "execution_count": 674,
   "id": "9f12c193-63b0-4309-b9b6-2042d57b0db9",
   "metadata": {},
   "outputs": [],
   "source": [
    "# sizes of train, validation and test\n",
    "num_train_samples = int(0.6 * len(weekly_serie))\n",
    "num_val_samples = int(0.2 * len(weekly_serie))\n",
    "num_test_samples = len(weekly_serie) - num_train_samples - num_val_samples\n",
    "\n",
    "\n",
    "# create dataset for training, validation, and testing\n",
    "# with the goal of predict the third week after the current:\n",
    "# Ex: sequence_length=3, leap=3\n",
    "#  raw_data = [0, 1, 2, 3, 4, 6] => input = [0, 1, 2], target = 6\n",
    "\n",
    "sampling_rate = 1\n",
    "sequence_length = 12\n",
    "leap = 3\n",
    "delay = sampling_rate * (sequence_length + leap - 1)\n",
    "\n",
    "batch_size = 2\n",
    "\n",
    "train_dataset = keras.utils.timeseries_dataset_from_array(\n",
    "    weekly_serie[:-leap],\n",
    "    targets=weekly_serie[delay:],\n",
    "    sampling_rate=sampling_rate,\n",
    "    sequence_length=sequence_length,\n",
    "    sequence_stride=1,\n",
    "    shuffle=True,\n",
    "    batch_size=batch_size,\n",
    "    start_index=0,\n",
    "    end_index=num_train_samples - leap)\n",
    "\n",
    "val_dataset = keras.utils.timeseries_dataset_from_array(\n",
    "    weekly_serie[:-leap],\n",
    "    targets=weekly_serie[delay:],\n",
    "    sampling_rate=sampling_rate,\n",
    "    sequence_length=sequence_length,\n",
    "    sequence_stride=1,\n",
    "    shuffle=True,\n",
    "    batch_size=batch_size,\n",
    "    start_index=num_train_samples - delay,\n",
    "    end_index=num_train_samples + num_val_samples - leap)\n",
    "\n",
    "test_dataset = keras.utils.timeseries_dataset_from_array(\n",
    "    weekly_serie[:-leap],\n",
    "    targets=weekly_serie[delay:],\n",
    "    sampling_rate=sampling_rate,\n",
    "    sequence_length=sequence_length,\n",
    "    sequence_stride=1,\n",
    "    shuffle=True,\n",
    "    batch_size=batch_size,\n",
    "    start_index=num_train_samples + num_val_samples - delay)"
   ]
  },
  {
   "cell_type": "code",
   "execution_count": 685,
   "id": "f90d0715-170b-45e1-ad34-509695df79d9",
   "metadata": {},
   "outputs": [
    {
     "name": "stdout",
     "output_type": "stream",
     "text": [
      "Intput\n",
      " tf.Tensor(\n",
      "[[14110. 12978. 16061. 14225. 15163. 15461. 20100. 14825. 17222. 15213.\n",
      "  19663. 17500.]\n",
      " [19253. 18115. 32896. 32485.  9540. 13037. 11980. 13439. 11916. 16904.\n",
      "  12310. 11823.]], shape=(2, 12), dtype=float64)\n",
      "Output\n",
      " tf.Tensor([19253. 14338.], shape=(2,), dtype=float64)\n"
     ]
    }
   ],
   "source": [
    "for x, y in train_dataset.take(1):\n",
    "    print(\"Intput\\n\", x)\n",
    "    print(\"Output\\n\", y)"
   ]
  },
  {
   "cell_type": "markdown",
   "id": "d41543a4-c284-4bdd-93f0-e87ff59d51a4",
   "metadata": {},
   "source": [
    "## 4. Modelos Predictivos"
   ]
  },
  {
   "cell_type": "code",
   "execution_count": 678,
   "id": "07650d33-7bac-4881-a3c1-8d2d35fe3c30",
   "metadata": {},
   "outputs": [],
   "source": [
    "def plot_loss(history):\n",
    "    loss = history.history[\"mae\"]\n",
    "    val_loss = history.history[\"val_mae\"]\n",
    "    epochs = range(1, len(loss) + 1)\n",
    "    plt.figure()\n",
    "    plt.plot(epochs, loss, \"bo\", label=\"Training MAE\")\n",
    "    plt.plot(epochs, val_loss, \"b\", label=\"Validation MAE\")\n",
    "    plt.title(\"Training and validation MAE\")\n",
    "    plt.legend()\n",
    "    plt.show()"
   ]
  },
  {
   "cell_type": "markdown",
   "id": "802f8d98-763d-4a21-8745-3820427eee94",
   "metadata": {},
   "source": [
    "### 4.1 Baseline\n",
    "\n",
    "Cuando se desarrolla un solución análitica desde cero es bueno partir creando una solución base, de esta manera tenemos un punto de comparación de que tan bien o mal lo estan haciendo los modelos. La solución base propuesta consiste en una heurística que utiliza la demanda de la semana actual para predecir la demanda en dos semanas. Matemáticamente:\n",
    "\n",
    "$$\\hat{y}_{t+3} = y_{t}$$"
   ]
  },
  {
   "cell_type": "code",
   "execution_count": 679,
   "id": "3f0c4a27-fe22-4a2a-bae9-0c0e73888f6c",
   "metadata": {},
   "outputs": [
    {
     "name": "stdout",
     "output_type": "stream",
     "text": [
      "Validation MAE: 4335.79\n",
      "Test MAE: 7006.79\n"
     ]
    }
   ],
   "source": [
    "def evaluate_naive_method(dataset):\n",
    "    total_abs_err = 0.\n",
    "    samples_seen = 0.\n",
    "    for samples, targets in dataset:\n",
    "        preds = tf.convert_to_tensor([value[-1] for value in samples])\n",
    "        total_abs_err += np.sum(np.abs(preds - targets))\n",
    "        samples_seen += samples.shape[0]\n",
    "    return total_abs_err / samples_seen\n",
    "\n",
    "\n",
    "print(f\"Validation MAE: {evaluate_naive_method(val_dataset):.2f}\")\n",
    "print(f\"Test MAE: {evaluate_naive_method(test_dataset):.2f}\")"
   ]
  },
  {
   "cell_type": "markdown",
   "id": "7f5b9f41-3ed7-44be-954c-f3107a3e9630",
   "metadata": {},
   "source": [
    "### 4.2 Linear Model\n",
    "\n",
    "El modelo linea predice el siguiente la demanda semanal como $\\hat{y}_{t+3} = b + w_{1}y_{t} + w_{2}y_{t-1} + ... + w_{p-1}y_{t-p+1}$, donde $p$ es el orden. En este caso se fijo $p=12$, lo cual corresponde a 12 semanas. Se ajustan los parámetros mediante mini-batch gradient descent. Se utiliza el conjunto de validación para escoger el modelo minimiza la función de pérdida \"Mean Square Error\". Vale la pena mencionar que el hiperparámetro $p$ se puede calibrar en el conjunto de validación, sin embargo, se decidió no hacerlo debido a que trata de un MVP."
   ]
  },
  {
   "cell_type": "code",
   "execution_count": 680,
   "id": "fec44219-a121-4076-a7ae-eece026ea334",
   "metadata": {},
   "outputs": [
    {
     "name": "stdout",
     "output_type": "stream",
     "text": [
      "Epoch 1/100\n",
      "30/30 [==============================] - 0s 4ms/step - loss: 669428224.0000 - mae: 25209.1465 - val_loss: 473683616.0000 - val_mae: 21270.2500\n",
      "Epoch 2/100\n",
      "30/30 [==============================] - 0s 2ms/step - loss: 644139264.0000 - mae: 24705.4551 - val_loss: 455598304.0000 - val_mae: 20849.8711\n",
      "Epoch 3/100\n",
      "30/30 [==============================] - 0s 2ms/step - loss: 620559104.0000 - mae: 24236.3984 - val_loss: 437623328.0000 - val_mae: 20424.0547\n",
      "Epoch 4/100\n",
      "30/30 [==============================] - 0s 2ms/step - loss: 596451584.0000 - mae: 23764.9121 - val_loss: 419203232.0000 - val_mae: 20003.5566\n",
      "Epoch 5/100\n",
      "30/30 [==============================] - 0s 2ms/step - loss: 573771968.0000 - mae: 23292.5527 - val_loss: 403530464.0000 - val_mae: 19581.2598\n",
      "Epoch 6/100\n",
      "30/30 [==============================] - 0s 2ms/step - loss: 551248640.0000 - mae: 22823.1523 - val_loss: 384139104.0000 - val_mae: 19154.0078\n",
      "Epoch 7/100\n",
      "30/30 [==============================] - 0s 2ms/step - loss: 530394624.0000 - mae: 22351.2832 - val_loss: 368471392.0000 - val_mae: 18730.3809\n",
      "Epoch 8/100\n",
      "30/30 [==============================] - 0s 2ms/step - loss: 508305632.0000 - mae: 21879.1816 - val_loss: 352021760.0000 - val_mae: 18312.7383\n",
      "Epoch 9/100\n",
      "30/30 [==============================] - 0s 2ms/step - loss: 486786368.0000 - mae: 21411.7754 - val_loss: 336957024.0000 - val_mae: 17890.8594\n",
      "Epoch 10/100\n",
      "30/30 [==============================] - 0s 2ms/step - loss: 467368832.0000 - mae: 20943.2266 - val_loss: 322256352.0000 - val_mae: 17472.1992\n",
      "Epoch 11/100\n",
      "30/30 [==============================] - 0s 2ms/step - loss: 446555488.0000 - mae: 20476.5996 - val_loss: 306020256.0000 - val_mae: 17048.2285\n",
      "Epoch 12/100\n",
      "30/30 [==============================] - 0s 2ms/step - loss: 427929344.0000 - mae: 20005.3340 - val_loss: 292460288.0000 - val_mae: 16625.4062\n",
      "Epoch 13/100\n",
      "30/30 [==============================] - 0s 2ms/step - loss: 408811040.0000 - mae: 19534.7402 - val_loss: 277469408.0000 - val_mae: 16205.3545\n",
      "Epoch 14/100\n",
      "30/30 [==============================] - 0s 2ms/step - loss: 390563616.0000 - mae: 19066.7910 - val_loss: 264095472.0000 - val_mae: 15789.5488\n",
      "Epoch 15/100\n",
      "30/30 [==============================] - 0s 2ms/step - loss: 372865408.0000 - mae: 18602.2656 - val_loss: 250560432.0000 - val_mae: 15363.9395\n",
      "Epoch 16/100\n",
      "30/30 [==============================] - 0s 2ms/step - loss: 355277696.0000 - mae: 18131.4844 - val_loss: 237658560.0000 - val_mae: 14947.5869\n",
      "Epoch 17/100\n",
      "30/30 [==============================] - 0s 2ms/step - loss: 338956960.0000 - mae: 17667.9160 - val_loss: 225714832.0000 - val_mae: 14532.3535\n",
      "Epoch 18/100\n",
      "30/30 [==============================] - 0s 2ms/step - loss: 322570176.0000 - mae: 17206.0781 - val_loss: 213718144.0000 - val_mae: 14118.2754\n",
      "Epoch 19/100\n",
      "30/30 [==============================] - 0s 2ms/step - loss: 306849664.0000 - mae: 16742.1777 - val_loss: 202071888.0000 - val_mae: 13701.0312\n",
      "Epoch 20/100\n",
      "30/30 [==============================] - 0s 2ms/step - loss: 291646080.0000 - mae: 16278.5879 - val_loss: 190941872.0000 - val_mae: 13284.4639\n",
      "Epoch 21/100\n",
      "30/30 [==============================] - 0s 2ms/step - loss: 276542848.0000 - mae: 15815.7217 - val_loss: 180105920.0000 - val_mae: 12868.2695\n",
      "Epoch 22/100\n",
      "30/30 [==============================] - 0s 2ms/step - loss: 262482128.0000 - mae: 15355.0850 - val_loss: 169845536.0000 - val_mae: 12450.5127\n",
      "Epoch 23/100\n",
      "30/30 [==============================] - 0s 2ms/step - loss: 248444896.0000 - mae: 14888.3604 - val_loss: 159796304.0000 - val_mae: 12038.7305\n",
      "Epoch 24/100\n",
      "30/30 [==============================] - 0s 2ms/step - loss: 235156560.0000 - mae: 14429.4248 - val_loss: 150285792.0000 - val_mae: 11620.5654\n",
      "Epoch 25/100\n",
      "30/30 [==============================] - 0s 2ms/step - loss: 222641024.0000 - mae: 13964.8125 - val_loss: 141376864.0000 - val_mae: 11214.1230\n",
      "Epoch 26/100\n",
      "30/30 [==============================] - 0s 2ms/step - loss: 209977936.0000 - mae: 13511.2568 - val_loss: 132228448.0000 - val_mae: 10800.6758\n",
      "Epoch 27/100\n",
      "30/30 [==============================] - 0s 2ms/step - loss: 198832080.0000 - mae: 13054.3701 - val_loss: 124763168.0000 - val_mae: 10395.4277\n",
      "Epoch 28/100\n",
      "30/30 [==============================] - 0s 2ms/step - loss: 187319360.0000 - mae: 12599.6523 - val_loss: 116552280.0000 - val_mae: 9982.8525\n",
      "Epoch 29/100\n",
      "30/30 [==============================] - 0s 2ms/step - loss: 175934784.0000 - mae: 12139.0322 - val_loss: 108901272.0000 - val_mae: 9576.7090\n",
      "Epoch 30/100\n",
      "30/30 [==============================] - 0s 2ms/step - loss: 166521248.0000 - mae: 11689.5000 - val_loss: 101558880.0000 - val_mae: 9187.1426\n",
      "Epoch 31/100\n",
      "30/30 [==============================] - 0s 2ms/step - loss: 156749984.0000 - mae: 11252.0449 - val_loss: 94858968.0000 - val_mae: 8769.4072\n",
      "Epoch 32/100\n",
      "30/30 [==============================] - 0s 2ms/step - loss: 146485136.0000 - mae: 10798.2637 - val_loss: 88852264.0000 - val_mae: 8387.3330\n",
      "Epoch 33/100\n",
      "30/30 [==============================] - 0s 2ms/step - loss: 137786816.0000 - mae: 10361.6699 - val_loss: 82513912.0000 - val_mae: 8010.5200\n",
      "Epoch 34/100\n",
      "30/30 [==============================] - 0s 2ms/step - loss: 130279416.0000 - mae: 9949.4590 - val_loss: 76818752.0000 - val_mae: 7691.6216\n",
      "Epoch 35/100\n",
      "30/30 [==============================] - 0s 2ms/step - loss: 121616248.0000 - mae: 9554.7432 - val_loss: 73236360.0000 - val_mae: 7427.7241\n",
      "Epoch 36/100\n",
      "30/30 [==============================] - 0s 2ms/step - loss: 115123184.0000 - mae: 9196.1113 - val_loss: 67379952.0000 - val_mae: 7130.5146\n",
      "Epoch 37/100\n",
      "30/30 [==============================] - 0s 2ms/step - loss: 108744528.0000 - mae: 8843.2041 - val_loss: 63497732.0000 - val_mae: 6905.5190\n",
      "Epoch 38/100\n",
      "30/30 [==============================] - 0s 2ms/step - loss: 101854856.0000 - mae: 8487.3838 - val_loss: 59623356.0000 - val_mae: 6624.8154\n",
      "Epoch 39/100\n",
      "30/30 [==============================] - 0s 2ms/step - loss: 95835080.0000 - mae: 8164.6460 - val_loss: 56756492.0000 - val_mae: 6399.4438\n",
      "Epoch 40/100\n",
      "30/30 [==============================] - 0s 2ms/step - loss: 90896408.0000 - mae: 7832.2993 - val_loss: 51817136.0000 - val_mae: 6088.2051\n",
      "Epoch 41/100\n",
      "30/30 [==============================] - 0s 2ms/step - loss: 85479216.0000 - mae: 7579.5850 - val_loss: 51616956.0000 - val_mae: 5955.7397\n",
      "Epoch 42/100\n",
      "30/30 [==============================] - 0s 2ms/step - loss: 81156976.0000 - mae: 7273.8335 - val_loss: 47608708.0000 - val_mae: 5708.8818\n",
      "Epoch 43/100\n",
      "30/30 [==============================] - 0s 2ms/step - loss: 76935520.0000 - mae: 7035.1519 - val_loss: 45966784.0000 - val_mae: 5533.0962\n",
      "Epoch 44/100\n",
      "30/30 [==============================] - 0s 2ms/step - loss: 74865080.0000 - mae: 6818.4268 - val_loss: 45985092.0000 - val_mae: 5400.7031\n",
      "Epoch 45/100\n",
      "30/30 [==============================] - 0s 2ms/step - loss: 71081696.0000 - mae: 6612.3306 - val_loss: 42147216.0000 - val_mae: 5188.0977\n",
      "Epoch 46/100\n",
      "30/30 [==============================] - 0s 2ms/step - loss: 65479172.0000 - mae: 6300.1475 - val_loss: 42920544.0000 - val_mae: 5053.9956\n",
      "Epoch 47/100\n",
      "30/30 [==============================] - 0s 2ms/step - loss: 64967740.0000 - mae: 6140.9126 - val_loss: 42254500.0000 - val_mae: 4908.2461\n",
      "Epoch 48/100\n",
      "30/30 [==============================] - 0s 2ms/step - loss: 63855612.0000 - mae: 6067.3872 - val_loss: 38932056.0000 - val_mae: 4679.3989\n",
      "Epoch 49/100\n",
      "30/30 [==============================] - 0s 2ms/step - loss: 62211208.0000 - mae: 5878.0225 - val_loss: 38690436.0000 - val_mae: 4588.7544\n",
      "Epoch 50/100\n",
      "30/30 [==============================] - 0s 2ms/step - loss: 59782288.0000 - mae: 5774.8403 - val_loss: 38598928.0000 - val_mae: 4486.8262\n",
      "Epoch 51/100\n",
      "30/30 [==============================] - 0s 2ms/step - loss: 59109808.0000 - mae: 5658.8916 - val_loss: 39770816.0000 - val_mae: 4476.2197\n",
      "Epoch 52/100\n",
      "30/30 [==============================] - 0s 2ms/step - loss: 58078056.0000 - mae: 5583.0693 - val_loss: 38678744.0000 - val_mae: 4411.0864\n",
      "Epoch 53/100\n",
      "30/30 [==============================] - 0s 2ms/step - loss: 56663428.0000 - mae: 5467.5615 - val_loss: 37755836.0000 - val_mae: 4315.2915\n",
      "Epoch 54/100\n",
      "30/30 [==============================] - 0s 2ms/step - loss: 57660580.0000 - mae: 5438.4634 - val_loss: 39090304.0000 - val_mae: 4237.0186\n",
      "Epoch 55/100\n",
      "30/30 [==============================] - 0s 2ms/step - loss: 57168208.0000 - mae: 5424.3208 - val_loss: 40080860.0000 - val_mae: 4308.4443\n",
      "Epoch 56/100\n",
      "30/30 [==============================] - 0s 2ms/step - loss: 57837224.0000 - mae: 5455.8452 - val_loss: 39703700.0000 - val_mae: 4257.3569\n",
      "Epoch 57/100\n",
      "30/30 [==============================] - 0s 2ms/step - loss: 55549792.0000 - mae: 5306.0391 - val_loss: 37934788.0000 - val_mae: 4162.1738\n",
      "Epoch 58/100\n",
      "30/30 [==============================] - 0s 2ms/step - loss: 55562496.0000 - mae: 5285.9814 - val_loss: 36786612.0000 - val_mae: 4058.5742\n",
      "Epoch 59/100\n",
      "30/30 [==============================] - 0s 2ms/step - loss: 54733940.0000 - mae: 5177.0327 - val_loss: 40267164.0000 - val_mae: 4274.4946\n",
      "Epoch 60/100\n",
      "30/30 [==============================] - 0s 2ms/step - loss: 54468356.0000 - mae: 5205.8423 - val_loss: 39542596.0000 - val_mae: 4106.5396\n",
      "Epoch 61/100\n",
      "30/30 [==============================] - 0s 2ms/step - loss: 55728740.0000 - mae: 5255.1792 - val_loss: 41745476.0000 - val_mae: 4290.5259\n",
      "Epoch 62/100\n",
      "30/30 [==============================] - 0s 2ms/step - loss: 56702244.0000 - mae: 5272.2993 - val_loss: 39170480.0000 - val_mae: 4084.4609\n",
      "Epoch 63/100\n",
      "30/30 [==============================] - 0s 2ms/step - loss: 54517088.0000 - mae: 5162.7964 - val_loss: 41071376.0000 - val_mae: 4186.3745\n",
      "Epoch 64/100\n",
      "30/30 [==============================] - 0s 2ms/step - loss: 54637028.0000 - mae: 5194.2349 - val_loss: 40926776.0000 - val_mae: 4219.3057\n",
      "Epoch 65/100\n",
      "30/30 [==============================] - 0s 2ms/step - loss: 55633732.0000 - mae: 5210.2251 - val_loss: 41758676.0000 - val_mae: 4176.8926\n",
      "Epoch 66/100\n",
      "30/30 [==============================] - 0s 2ms/step - loss: 54883420.0000 - mae: 5139.7939 - val_loss: 38853788.0000 - val_mae: 4043.5908\n",
      "Epoch 67/100\n",
      "30/30 [==============================] - 0s 2ms/step - loss: 53072312.0000 - mae: 5040.6299 - val_loss: 39055068.0000 - val_mae: 4030.4045\n",
      "Epoch 68/100\n",
      "30/30 [==============================] - 0s 2ms/step - loss: 55515032.0000 - mae: 5189.8369 - val_loss: 40400964.0000 - val_mae: 4031.0737\n",
      "Epoch 69/100\n",
      "30/30 [==============================] - 0s 2ms/step - loss: 55743300.0000 - mae: 5258.3472 - val_loss: 42196540.0000 - val_mae: 4174.9570\n",
      "Epoch 70/100\n",
      "30/30 [==============================] - 0s 2ms/step - loss: 53614956.0000 - mae: 5060.2104 - val_loss: 41367376.0000 - val_mae: 4113.7949\n",
      "Epoch 71/100\n",
      "30/30 [==============================] - 0s 2ms/step - loss: 53174272.0000 - mae: 5024.9658 - val_loss: 41259276.0000 - val_mae: 4199.1558\n",
      "Epoch 72/100\n",
      "30/30 [==============================] - 0s 2ms/step - loss: 55539728.0000 - mae: 5189.6938 - val_loss: 41075056.0000 - val_mae: 4077.2014\n",
      "Epoch 73/100\n",
      "30/30 [==============================] - 0s 2ms/step - loss: 56236104.0000 - mae: 5207.2646 - val_loss: 40243908.0000 - val_mae: 4086.9050\n",
      "Epoch 74/100\n",
      "30/30 [==============================] - 0s 2ms/step - loss: 53053344.0000 - mae: 5047.8091 - val_loss: 41457936.0000 - val_mae: 4120.6904\n",
      "Epoch 75/100\n",
      "30/30 [==============================] - 0s 2ms/step - loss: 53371604.0000 - mae: 5046.9355 - val_loss: 40079748.0000 - val_mae: 4045.4036\n",
      "Epoch 76/100\n",
      "30/30 [==============================] - 0s 2ms/step - loss: 54890048.0000 - mae: 5136.4487 - val_loss: 42778252.0000 - val_mae: 4176.9058\n",
      "Epoch 77/100\n",
      "30/30 [==============================] - 0s 2ms/step - loss: 53916296.0000 - mae: 5101.2397 - val_loss: 41266464.0000 - val_mae: 4125.6157\n",
      "Epoch 78/100\n",
      "30/30 [==============================] - 0s 2ms/step - loss: 52488412.0000 - mae: 4958.9507 - val_loss: 40058204.0000 - val_mae: 4027.7510\n",
      "Epoch 79/100\n",
      "30/30 [==============================] - 0s 2ms/step - loss: 53807476.0000 - mae: 5058.6064 - val_loss: 39195692.0000 - val_mae: 3962.3369\n",
      "Epoch 80/100\n",
      "30/30 [==============================] - 0s 2ms/step - loss: 54715176.0000 - mae: 5105.5195 - val_loss: 42344116.0000 - val_mae: 4156.2949\n",
      "Epoch 81/100\n",
      "30/30 [==============================] - 0s 2ms/step - loss: 55807188.0000 - mae: 5221.9102 - val_loss: 42805924.0000 - val_mae: 4200.1870\n",
      "Epoch 82/100\n",
      "30/30 [==============================] - 0s 2ms/step - loss: 53689756.0000 - mae: 5069.2119 - val_loss: 41782756.0000 - val_mae: 4120.8564\n",
      "Epoch 83/100\n",
      "30/30 [==============================] - 0s 2ms/step - loss: 54156120.0000 - mae: 5018.0083 - val_loss: 41432588.0000 - val_mae: 4098.7559\n",
      "Epoch 84/100\n",
      "30/30 [==============================] - 0s 2ms/step - loss: 54386364.0000 - mae: 5084.7583 - val_loss: 42251668.0000 - val_mae: 4159.6191\n",
      "Epoch 85/100\n",
      "30/30 [==============================] - 0s 2ms/step - loss: 55573564.0000 - mae: 5114.9600 - val_loss: 39288948.0000 - val_mae: 4002.8381\n",
      "Epoch 86/100\n",
      "30/30 [==============================] - 0s 2ms/step - loss: 54757884.0000 - mae: 5112.5220 - val_loss: 40779484.0000 - val_mae: 4084.6870\n",
      "Epoch 87/100\n",
      "30/30 [==============================] - 0s 2ms/step - loss: 54893020.0000 - mae: 5061.5757 - val_loss: 41537336.0000 - val_mae: 4081.1572\n",
      "Epoch 88/100\n",
      "30/30 [==============================] - 0s 2ms/step - loss: 55103748.0000 - mae: 5160.3276 - val_loss: 39162700.0000 - val_mae: 4046.9849\n",
      "Epoch 89/100\n",
      "30/30 [==============================] - 0s 2ms/step - loss: 54659192.0000 - mae: 5137.3906 - val_loss: 37924436.0000 - val_mae: 3931.9939\n",
      "Epoch 90/100\n",
      "30/30 [==============================] - 0s 2ms/step - loss: 54578396.0000 - mae: 5141.2549 - val_loss: 41550720.0000 - val_mae: 4095.4358\n",
      "Epoch 91/100\n",
      "30/30 [==============================] - 0s 2ms/step - loss: 52904800.0000 - mae: 4997.6777 - val_loss: 42294920.0000 - val_mae: 4154.3560\n",
      "Epoch 92/100\n",
      "30/30 [==============================] - 0s 2ms/step - loss: 54326836.0000 - mae: 5107.0708 - val_loss: 41959036.0000 - val_mae: 4104.9746\n",
      "Epoch 93/100\n",
      "30/30 [==============================] - 0s 2ms/step - loss: 55016156.0000 - mae: 5121.0005 - val_loss: 41974536.0000 - val_mae: 4129.5176\n",
      "Epoch 94/100\n",
      "30/30 [==============================] - 0s 2ms/step - loss: 54498668.0000 - mae: 5118.5630 - val_loss: 41947324.0000 - val_mae: 4113.1743\n",
      "Epoch 95/100\n",
      "30/30 [==============================] - 0s 2ms/step - loss: 52063556.0000 - mae: 5008.6895 - val_loss: 40871724.0000 - val_mae: 4075.3203\n",
      "Epoch 96/100\n",
      "30/30 [==============================] - 0s 2ms/step - loss: 54805512.0000 - mae: 5029.3975 - val_loss: 39864372.0000 - val_mae: 4051.2410\n",
      "Epoch 97/100\n",
      "30/30 [==============================] - 0s 2ms/step - loss: 54665104.0000 - mae: 5070.1035 - val_loss: 40784576.0000 - val_mae: 4071.0681\n",
      "Epoch 98/100\n",
      "30/30 [==============================] - 0s 2ms/step - loss: 54596644.0000 - mae: 5083.6284 - val_loss: 39107212.0000 - val_mae: 3988.6731\n",
      "Epoch 99/100\n",
      "30/30 [==============================] - 0s 2ms/step - loss: 55497740.0000 - mae: 5158.5229 - val_loss: 40216492.0000 - val_mae: 4029.4519\n",
      "Epoch 100/100\n",
      "30/30 [==============================] - 0s 2ms/step - loss: 53619156.0000 - mae: 5047.1680 - val_loss: 42575380.0000 - val_mae: 4205.3027\n",
      "13/13 [==============================] - 0s 496us/step - loss: 81642832.0000 - mae: 5863.7573\n",
      "Test MAE: 5863.76\n"
     ]
    },
    {
     "data": {
      "image/png": "[encoded data removed]",
      "text/plain": [
       "<Figure size 432x288 with 1 Axes>"
      ]
     },
     "metadata": {
      "needs_background": "light"
     },
     "output_type": "display_data"
    }
   ],
   "source": [
    "inputs = keras.Input(shape=(sequence_length, 1))\n",
    "outputs = layers.Dense(1)(inputs)\n",
    "ar_model = keras.Model(inputs, outputs)\n",
    "callbacks = [\n",
    "    keras.callbacks.ModelCheckpoint(\"ar_model.keras\",\n",
    "                                    save_best_only=True)\n",
    "]\n",
    "ar_model.compile(optimizer=\"rmsprop\", loss=\"mse\", metrics=[\"mae\"])\n",
    "history = ar_model.fit(train_dataset,\n",
    "                    epochs=100,\n",
    "                    validation_data=val_dataset,\n",
    "                    callbacks=callbacks)\n",
    "\n",
    "ar_model = keras.models.load_model(\"best_ar.keras\")\n",
    "print(f\"Test MAE: {ar_model.evaluate(test_dataset)[1]:.2f}\")\n",
    "plot_loss(history)"
   ]
  },
  {
   "cell_type": "markdown",
   "id": "56426172-a238-4966-a85f-d2f4d47b6b64",
   "metadata": {},
   "source": [
    "### 4.3 LSTM\n",
    "\n",
    "LSTM es una red neural recurrente, en donde la predicción viene dada por $\\hat{y}_{t+3} = f(y_{t}, y_{t-1}, ..., y_{t-p})$, donde $p$ es el largo de la secuencia el cual puede no ser fijo. Se utiliza el mismo largo de secuencia que en el modelo linal, es decir, $p=12$."
   ]
  },
  {
   "cell_type": "code",
   "execution_count": 686,
   "id": "d538bbe7-adad-447b-89dc-736fa276363e",
   "metadata": {},
   "outputs": [
    {
     "name": "stdout",
     "output_type": "stream",
     "text": [
      "Epoch 1/100\n",
      "30/30 [==============================] - 3s 20ms/step - loss: 287591936.0000 - mae: 16157.4893 - val_loss: 287378336.0000 - val_mae: 16150.9678\n",
      "Epoch 2/100\n",
      "30/30 [==============================] - 0s 11ms/step - loss: 287049984.0000 - mae: 16140.8818 - val_loss: 286628384.0000 - val_mae: 16127.7412\n",
      "Epoch 3/100\n",
      "30/30 [==============================] - 0s 10ms/step - loss: 286144800.0000 - mae: 16114.6123 - val_loss: 285430560.0000 - val_mae: 16090.5615\n",
      "Epoch 4/100\n",
      "30/30 [==============================] - 0s 10ms/step - loss: 284830400.0000 - mae: 16068.7764 - val_loss: 283576096.0000 - val_mae: 16032.8213\n",
      "Epoch 5/100\n",
      "30/30 [==============================] - 0s 10ms/step - loss: 281764608.0000 - mae: 15971.8115 - val_loss: 280369248.0000 - val_mae: 15932.5020\n",
      "Epoch 6/100\n",
      "30/30 [==============================] - 0s 10ms/step - loss: 277955488.0000 - mae: 15857.2764 - val_loss: 275723040.0000 - val_mae: 15786.0254\n",
      "Epoch 7/100\n",
      "30/30 [==============================] - 0s 10ms/step - loss: 272777728.0000 - mae: 15684.7910 - val_loss: 269338624.0000 - val_mae: 15582.4980\n",
      "Epoch 8/100\n",
      "30/30 [==============================] - 0s 10ms/step - loss: 263450256.0000 - mae: 15415.6113 - val_loss: 260857040.0000 - val_mae: 15307.9287\n",
      "Epoch 9/100\n",
      "30/30 [==============================] - 0s 11ms/step - loss: 257158608.0000 - mae: 15160.4375 - val_loss: 249398112.0000 - val_mae: 14928.9463\n",
      "Epoch 10/100\n",
      "30/30 [==============================] - 0s 11ms/step - loss: 245463712.0000 - mae: 14789.1406 - val_loss: 235410624.0000 - val_mae: 14452.8965\n",
      "Epoch 11/100\n",
      "30/30 [==============================] - 0s 11ms/step - loss: 231591200.0000 - mae: 14262.1250 - val_loss: 217721280.0000 - val_mae: 13827.3965\n",
      "Epoch 12/100\n",
      "30/30 [==============================] - 0s 12ms/step - loss: 213045232.0000 - mae: 13546.7090 - val_loss: 196640528.0000 - val_mae: 13042.8525\n",
      "Epoch 13/100\n",
      "30/30 [==============================] - 0s 12ms/step - loss: 193806864.0000 - mae: 12590.3271 - val_loss: 173916208.0000 - val_mae: 12140.4990\n",
      "Epoch 14/100\n",
      "30/30 [==============================] - 0s 11ms/step - loss: 176719104.0000 - mae: 12059.2041 - val_loss: 147241872.0000 - val_mae: 10987.1455\n",
      "Epoch 15/100\n",
      "30/30 [==============================] - 0s 12ms/step - loss: 147494864.0000 - mae: 10492.6504 - val_loss: 120676280.0000 - val_mae: 9703.1846\n",
      "Epoch 16/100\n",
      "30/30 [==============================] - 0s 12ms/step - loss: 127005296.0000 - mae: 9224.1533 - val_loss: 95105296.0000 - val_mae: 8281.3477\n",
      "Epoch 17/100\n",
      "30/30 [==============================] - 0s 15ms/step - loss: 115348592.0000 - mae: 8839.0518 - val_loss: 70715432.0000 - val_mae: 6647.6250\n",
      "Epoch 18/100\n",
      "30/30 [==============================] - 1s 17ms/step - loss: 87503664.0000 - mae: 7383.6274 - val_loss: 58241196.0000 - val_mae: 5665.2559\n",
      "Epoch 19/100\n",
      "30/30 [==============================] - 1s 16ms/step - loss: 69130352.0000 - mae: 6776.9009 - val_loss: 47117684.0000 - val_mae: 4651.9053\n",
      "Epoch 20/100\n",
      "30/30 [==============================] - 1s 17ms/step - loss: 86519912.0000 - mae: 7214.8745 - val_loss: 43443272.0000 - val_mae: 4311.7524\n",
      "Epoch 21/100\n",
      "30/30 [==============================] - 1s 17ms/step - loss: 55079636.0000 - mae: 5892.6411 - val_loss: 39547540.0000 - val_mae: 3973.3127\n",
      "Epoch 22/100\n",
      "30/30 [==============================] - 1s 17ms/step - loss: 49056224.0000 - mae: 5677.4790 - val_loss: 36417004.0000 - val_mae: 3691.6045\n",
      "Epoch 23/100\n",
      "30/30 [==============================] - 1s 21ms/step - loss: 83834424.0000 - mae: 7113.6338 - val_loss: 33449598.0000 - val_mae: 3455.9465\n",
      "Epoch 24/100\n",
      "30/30 [==============================] - 1s 20ms/step - loss: 72698976.0000 - mae: 6655.8940 - val_loss: 33443292.0000 - val_mae: 3455.4395\n",
      "Epoch 25/100\n",
      "30/30 [==============================] - 1s 20ms/step - loss: 59366760.0000 - mae: 6351.9619 - val_loss: 31246668.0000 - val_mae: 3280.5093\n",
      "Epoch 26/100\n",
      "30/30 [==============================] - 1s 19ms/step - loss: 79780072.0000 - mae: 6739.2856 - val_loss: 34266016.0000 - val_mae: 3521.9248\n",
      "Epoch 27/100\n",
      "30/30 [==============================] - 1s 34ms/step - loss: 85164280.0000 - mae: 7412.1460 - val_loss: 34107332.0000 - val_mae: 3508.8071\n",
      "Epoch 28/100\n",
      "30/30 [==============================] - 1s 48ms/step - loss: 70190704.0000 - mae: 6331.2412 - val_loss: 31605630.0000 - val_mae: 3309.3689\n",
      "Epoch 29/100\n",
      "30/30 [==============================] - 1s 31ms/step - loss: 80235616.0000 - mae: 7276.8823 - val_loss: 31175784.0000 - val_mae: 3274.6826\n",
      "Epoch 30/100\n",
      "30/30 [==============================] - 1s 25ms/step - loss: 69894896.0000 - mae: 5941.3125 - val_loss: 30328036.0000 - val_mae: 3212.3286\n",
      "Epoch 31/100\n",
      "30/30 [==============================] - 1s 20ms/step - loss: 106979008.0000 - mae: 7736.7690 - val_loss: 31567898.0000 - val_mae: 3306.3845\n",
      "Epoch 32/100\n",
      "30/30 [==============================] - 1s 19ms/step - loss: 60173172.0000 - mae: 5773.2583 - val_loss: 30021704.0000 - val_mae: 3196.8618\n",
      "Epoch 33/100\n",
      "30/30 [==============================] - 0s 16ms/step - loss: 76592448.0000 - mae: 6865.9351 - val_loss: 32360476.0000 - val_mae: 3367.4031\n",
      "Epoch 34/100\n",
      "30/30 [==============================] - 1s 16ms/step - loss: 75299496.0000 - mae: 6803.8066 - val_loss: 33429550.0000 - val_mae: 3454.3313\n",
      "Epoch 35/100\n",
      "30/30 [==============================] - 0s 16ms/step - loss: 66258828.0000 - mae: 6358.4541 - val_loss: 32511528.0000 - val_mae: 3379.5122\n",
      "Epoch 36/100\n",
      "30/30 [==============================] - 0s 16ms/step - loss: 57371244.0000 - mae: 5681.3169 - val_loss: 30055572.0000 - val_mae: 3198.5459\n",
      "Epoch 37/100\n",
      "30/30 [==============================] - 0s 16ms/step - loss: 73491120.0000 - mae: 6654.6416 - val_loss: 33123052.0000 - val_mae: 3429.3398\n",
      "Epoch 38/100\n",
      "30/30 [==============================] - 0s 16ms/step - loss: 69268832.0000 - mae: 6617.4014 - val_loss: 33530888.0000 - val_mae: 3462.4717\n",
      "Epoch 39/100\n",
      "30/30 [==============================] - 0s 16ms/step - loss: 68227048.0000 - mae: 6061.2915 - val_loss: 35747776.0000 - val_mae: 3638.4495\n",
      "Epoch 40/100\n",
      "30/30 [==============================] - 0s 16ms/step - loss: 95573976.0000 - mae: 7476.0410 - val_loss: 35015060.0000 - val_mae: 3582.1023\n",
      "Epoch 41/100\n",
      "30/30 [==============================] - 0s 16ms/step - loss: 47901228.0000 - mae: 5126.4087 - val_loss: 33199814.0000 - val_mae: 3435.6511\n",
      "Epoch 42/100\n",
      "30/30 [==============================] - 1s 22ms/step - loss: 84424312.0000 - mae: 6764.8740 - val_loss: 34235140.0000 - val_mae: 3519.3826\n",
      "Epoch 43/100\n",
      "30/30 [==============================] - 1s 22ms/step - loss: 74589168.0000 - mae: 6979.6519 - val_loss: 33280578.0000 - val_mae: 3442.2549\n",
      "Epoch 44/100\n",
      "30/30 [==============================] - 1s 20ms/step - loss: 72263312.0000 - mae: 6456.7075 - val_loss: 32442450.0000 - val_mae: 3373.9937\n",
      "Epoch 45/100\n",
      "30/30 [==============================] - 1s 24ms/step - loss: 66236940.0000 - mae: 6438.1729 - val_loss: 32220868.0000 - val_mae: 3356.5554\n",
      "Epoch 46/100\n",
      "30/30 [==============================] - 1s 23ms/step - loss: 62675724.0000 - mae: 6062.1665 - val_loss: 30453636.0000 - val_mae: 3220.3901\n",
      "Epoch 47/100\n",
      "30/30 [==============================] - 1s 22ms/step - loss: 70470928.0000 - mae: 6521.5239 - val_loss: 29559168.0000 - val_mae: 3177.4602\n",
      "Epoch 48/100\n",
      "30/30 [==============================] - 1s 16ms/step - loss: 70537808.0000 - mae: 6704.4067 - val_loss: 31432982.0000 - val_mae: 3295.6196\n",
      "Epoch 49/100\n",
      "30/30 [==============================] - 0s 16ms/step - loss: 62210648.0000 - mae: 5709.6460 - val_loss: 32212394.0000 - val_mae: 3355.9231\n",
      "Epoch 50/100\n",
      "30/30 [==============================] - 1s 19ms/step - loss: 68705712.0000 - mae: 6173.6826 - val_loss: 32901170.0000 - val_mae: 3410.8826\n",
      "Epoch 51/100\n",
      "30/30 [==============================] - 1s 19ms/step - loss: 53673176.0000 - mae: 5880.2871 - val_loss: 31422082.0000 - val_mae: 3294.7449\n",
      "Epoch 52/100\n",
      "30/30 [==============================] - 1s 19ms/step - loss: 57064596.0000 - mae: 6372.6680 - val_loss: 31547562.0000 - val_mae: 3304.7717\n",
      "Epoch 53/100\n",
      "30/30 [==============================] - 1s 19ms/step - loss: 59293856.0000 - mae: 6365.1528 - val_loss: 30786648.0000 - val_mae: 3243.4807\n",
      "Epoch 54/100\n",
      "30/30 [==============================] - 1s 19ms/step - loss: 61761208.0000 - mae: 5667.0693 - val_loss: 29759454.0000 - val_mae: 3184.3276\n",
      "Epoch 55/100\n",
      "30/30 [==============================] - 0s 16ms/step - loss: 52465184.0000 - mae: 5559.1245 - val_loss: 32501648.0000 - val_mae: 3378.7251\n",
      "Epoch 56/100\n",
      "30/30 [==============================] - 1s 17ms/step - loss: 46770496.0000 - mae: 5340.2554 - val_loss: 32304494.0000 - val_mae: 3362.8750\n",
      "Epoch 57/100\n",
      "30/30 [==============================] - 1s 20ms/step - loss: 50578412.0000 - mae: 5634.7256 - val_loss: 30902854.0000 - val_mae: 3252.4832\n",
      "Epoch 58/100\n",
      "30/30 [==============================] - 1s 20ms/step - loss: 79505728.0000 - mae: 6580.7573 - val_loss: 31511874.0000 - val_mae: 3301.9319\n",
      "Epoch 59/100\n",
      "30/30 [==============================] - 1s 19ms/step - loss: 85048712.0000 - mae: 6819.2002 - val_loss: 32041338.0000 - val_mae: 3343.0608\n",
      "Epoch 60/100\n",
      "30/30 [==============================] - 1s 20ms/step - loss: 82632608.0000 - mae: 7372.5708 - val_loss: 32859196.0000 - val_mae: 3407.3550\n",
      "Epoch 61/100\n",
      "30/30 [==============================] - 1s 26ms/step - loss: 66263692.0000 - mae: 6191.5703 - val_loss: 32371144.0000 - val_mae: 3368.2629\n",
      "Epoch 62/100\n",
      "30/30 [==============================] - 1s 28ms/step - loss: 57896240.0000 - mae: 5553.6631 - val_loss: 32034052.0000 - val_mae: 3342.5090\n",
      "Epoch 63/100\n",
      "30/30 [==============================] - 1s 24ms/step - loss: 60352448.0000 - mae: 5555.6997 - val_loss: 35787700.0000 - val_mae: 3641.4536\n",
      "Epoch 64/100\n",
      "30/30 [==============================] - 1s 19ms/step - loss: 71179600.0000 - mae: 6444.2178 - val_loss: 33693924.0000 - val_mae: 3475.4473\n",
      "Epoch 65/100\n",
      "30/30 [==============================] - 1s 17ms/step - loss: 80288832.0000 - mae: 6369.1680 - val_loss: 32532684.0000 - val_mae: 3381.1965\n",
      "Epoch 66/100\n",
      "30/30 [==============================] - 0s 16ms/step - loss: 63746716.0000 - mae: 6419.5977 - val_loss: 34163972.0000 - val_mae: 3513.5042\n",
      "Epoch 67/100\n",
      "30/30 [==============================] - 1s 18ms/step - loss: 88480400.0000 - mae: 7071.1602 - val_loss: 33505682.0000 - val_mae: 3460.4524\n",
      "Epoch 68/100\n",
      "30/30 [==============================] - 1s 20ms/step - loss: 66236204.0000 - mae: 6243.1216 - val_loss: 33760184.0000 - val_mae: 3480.6785\n",
      "Epoch 69/100\n",
      "30/30 [==============================] - 1s 19ms/step - loss: 73892320.0000 - mae: 6255.5933 - val_loss: 32045502.0000 - val_mae: 3343.3757\n",
      "Epoch 70/100\n",
      "30/30 [==============================] - 1s 19ms/step - loss: 75038512.0000 - mae: 6018.6104 - val_loss: 33231264.0000 - val_mae: 3438.2280\n",
      "Epoch 71/100\n",
      "30/30 [==============================] - 1s 19ms/step - loss: 75368968.0000 - mae: 6774.7524 - val_loss: 32861602.0000 - val_mae: 3407.5588\n",
      "Epoch 72/100\n",
      "30/30 [==============================] - 1s 30ms/step - loss: 71170696.0000 - mae: 6573.3857 - val_loss: 32153926.0000 - val_mae: 3351.5481\n",
      "Epoch 73/100\n",
      "30/30 [==============================] - 1s 25ms/step - loss: 77406960.0000 - mae: 7108.4751 - val_loss: 33010812.0000 - val_mae: 3420.0420\n",
      "Epoch 74/100\n",
      "30/30 [==============================] - 1s 23ms/step - loss: 63256160.0000 - mae: 5613.6021 - val_loss: 32300934.0000 - val_mae: 3362.5867\n",
      "Epoch 75/100\n",
      "30/30 [==============================] - 1s 20ms/step - loss: 69002976.0000 - mae: 6547.0054 - val_loss: 31258934.0000 - val_mae: 3281.5137\n",
      "Epoch 76/100\n",
      "30/30 [==============================] - 1s 24ms/step - loss: 57892552.0000 - mae: 5664.2354 - val_loss: 31519994.0000 - val_mae: 3302.5789\n",
      "Epoch 77/100\n",
      "30/30 [==============================] - 1s 21ms/step - loss: 60817084.0000 - mae: 5620.7192 - val_loss: 30485378.0000 - val_mae: 3222.4211\n",
      "Epoch 78/100\n",
      "30/30 [==============================] - 1s 19ms/step - loss: 75985304.0000 - mae: 6596.3569 - val_loss: 29806294.0000 - val_mae: 3186.3066\n",
      "Epoch 79/100\n",
      "30/30 [==============================] - 0s 16ms/step - loss: 52522040.0000 - mae: 5921.2563 - val_loss: 32350718.0000 - val_mae: 3366.6147\n",
      "Epoch 80/100\n",
      "30/30 [==============================] - 0s 15ms/step - loss: 88284384.0000 - mae: 7582.6587 - val_loss: 33921776.0000 - val_mae: 3493.3345\n",
      "Epoch 81/100\n",
      "30/30 [==============================] - 1s 20ms/step - loss: 57399000.0000 - mae: 5955.4883 - val_loss: 34757360.0000 - val_mae: 3561.7100\n",
      "Epoch 82/100\n",
      "30/30 [==============================] - 1s 19ms/step - loss: 77715080.0000 - mae: 6545.7729 - val_loss: 34897144.0000 - val_mae: 3572.8098\n",
      "Epoch 83/100\n",
      "30/30 [==============================] - 1s 20ms/step - loss: 78921448.0000 - mae: 6937.8311 - val_loss: 32627678.0000 - val_mae: 3388.7200\n",
      "Epoch 84/100\n",
      "30/30 [==============================] - 1s 20ms/step - loss: 62855368.0000 - mae: 5984.2778 - val_loss: 29467446.0000 - val_mae: 3174.3130\n",
      "Epoch 85/100\n",
      "30/30 [==============================] - 1s 26ms/step - loss: 52686696.0000 - mae: 5699.6548 - val_loss: 28913480.0000 - val_mae: 3156.5444\n",
      "Epoch 86/100\n",
      "30/30 [==============================] - 1s 29ms/step - loss: 84927544.0000 - mae: 7551.6055 - val_loss: 30726972.0000 - val_mae: 3238.8103\n",
      "Epoch 87/100\n",
      "30/30 [==============================] - 1s 24ms/step - loss: 60709808.0000 - mae: 5940.0952 - val_loss: 31337102.0000 - val_mae: 3287.8804\n",
      "Epoch 88/100\n",
      "30/30 [==============================] - 1s 19ms/step - loss: 63964128.0000 - mae: 6150.7148 - val_loss: 32494146.0000 - val_mae: 3378.1267\n",
      "Epoch 89/100\n",
      "30/30 [==============================] - 1s 22ms/step - loss: 53391880.0000 - mae: 5567.4761 - val_loss: 30703976.0000 - val_mae: 3237.1917\n",
      "Epoch 90/100\n",
      "30/30 [==============================] - 1s 23ms/step - loss: 75564344.0000 - mae: 6230.9663 - val_loss: 30551456.0000 - val_mae: 3226.6245\n",
      "Epoch 91/100\n",
      "30/30 [==============================] - 1s 20ms/step - loss: 63823804.0000 - mae: 5832.3296 - val_loss: 30897684.0000 - val_mae: 3252.0847\n",
      "Epoch 92/100\n",
      "30/30 [==============================] - 1s 22ms/step - loss: 61053388.0000 - mae: 6343.5171 - val_loss: 30110406.0000 - val_mae: 3201.2556\n",
      "Epoch 93/100\n",
      "30/30 [==============================] - 1s 23ms/step - loss: 68177912.0000 - mae: 6536.7417 - val_loss: 32224424.0000 - val_mae: 3356.8198\n",
      "Epoch 94/100\n",
      "30/30 [==============================] - 1s 19ms/step - loss: 48540076.0000 - mae: 5347.4785 - val_loss: 29999862.0000 - val_mae: 3195.7712\n",
      "Epoch 95/100\n",
      "30/30 [==============================] - 1s 22ms/step - loss: 71267672.0000 - mae: 6989.8174 - val_loss: 30832318.0000 - val_mae: 3247.0334\n",
      "Epoch 96/100\n",
      "30/30 [==============================] - 1s 22ms/step - loss: 68046680.0000 - mae: 6504.0586 - val_loss: 31514088.0000 - val_mae: 3302.1089\n",
      "Epoch 97/100\n",
      "30/30 [==============================] - 1s 19ms/step - loss: 69178232.0000 - mae: 6328.1641 - val_loss: 32400738.0000 - val_mae: 3370.6455\n",
      "Epoch 98/100\n",
      "30/30 [==============================] - 1s 23ms/step - loss: 62855036.0000 - mae: 6178.2036 - val_loss: 32976138.0000 - val_mae: 3417.1536\n",
      "Epoch 99/100\n",
      "30/30 [==============================] - 1s 23ms/step - loss: 75641160.0000 - mae: 6802.6675 - val_loss: 31736680.0000 - val_mae: 3319.6497\n",
      "Epoch 100/100\n",
      "30/30 [==============================] - 1s 19ms/step - loss: 83244192.0000 - mae: 7015.8628 - val_loss: 33066594.0000 - val_mae: 3424.6721\n",
      "30/30 [==============================] - 1s 4ms/step - loss: 28913476.0000 - mae: 3156.5444\n",
      "Test MAE: 3156.54\n"
     ]
    },
    {
     "data": {
      "image/png": "[encoded data removed]",
      "text/plain": [
       "<Figure size 432x288 with 1 Axes>"
      ]
     },
     "metadata": {
      "needs_background": "light"
     },
     "output_type": "display_data"
    }
   ],
   "source": [
    "inputs = tf.keras.Input(shape=(sequence_length, 1))\n",
    "x = layers.LSTM(64, recurrent_dropout=0.2, return_sequences=True)(inputs)\n",
    "x = layers.LSTM(64, recurrent_dropout=0.2)(x)\n",
    "x = layers.Dense(64, activation=\"relu\")(x)\n",
    "x = layers.Dropout(0.5)(x)\n",
    "x = layers.Dense(32, activation=\"relu\")(x)\n",
    "x = layers.Dropout(0.5)(x)\n",
    "x = layers.Dense(16, activation=\"relu\")(x)\n",
    "x = layers.Dropout(0.5)(x)\n",
    "outputs = layers.Dense(1)(x)\n",
    "lstm_model = keras.Model(inputs, outputs)\n",
    "callbacks = [\n",
    "    keras.callbacks.ModelCheckpoint(\"lstm_model.keras\",\n",
    "                                    save_best_only=True)\n",
    "]\n",
    "lstm_model.compile(optimizer=\"rmsprop\", loss=\"mse\", metrics=[\"mae\"])\n",
    "history = lstm_model.fit(train_dataset,\n",
    "                         epochs=100,\n",
    "                         validation_data=train_dataset,\n",
    "                         callbacks=callbacks)\n",
    "lstm_model = keras.models.load_model(\"lstm_model.keras\")\n",
    "print(f\"Test MAE: {lstm_model.evaluate(train_dataset)[1]:.2f}\")\n",
    "plot_loss(history)"
   ]
  },
  {
   "cell_type": "code",
   "execution_count": 691,
   "id": "42278da5-8663-4789-8556-81987df49f67",
   "metadata": {},
   "outputs": [
    {
     "data": {
      "text/html": [
       "<div>\n",
       "<style scoped>\n",
       "    .dataframe tbody tr th:only-of-type {\n",
       "        vertical-align: middle;\n",
       "    }\n",
       "\n",
       "    .dataframe tbody tr th {\n",
       "        vertical-align: top;\n",
       "    }\n",
       "\n",
       "    .dataframe thead th {\n",
       "        text-align: right;\n",
       "    }\n",
       "</style>\n",
       "<table border=\"1\" class=\"dataframe\">\n",
       "  <thead>\n",
       "    <tr style=\"text-align: right;\">\n",
       "      <th></th>\n",
       "      <th>FECHA</th>\n",
       "      <th>VENTAS</th>\n",
       "    </tr>\n",
       "  </thead>\n",
       "  <tbody>\n",
       "    <tr>\n",
       "      <th>43</th>\n",
       "      <td>2017-09-13</td>\n",
       "      <td>9454.000000</td>\n",
       "    </tr>\n",
       "    <tr>\n",
       "      <th>46</th>\n",
       "      <td>2017-09-16</td>\n",
       "      <td>9775.000000</td>\n",
       "    </tr>\n",
       "    <tr>\n",
       "      <th>140</th>\n",
       "      <td>2017-12-23</td>\n",
       "      <td>9430.000000</td>\n",
       "    </tr>\n",
       "    <tr>\n",
       "      <th>146</th>\n",
       "      <td>2017-12-30</td>\n",
       "      <td>9694.000000</td>\n",
       "    </tr>\n",
       "    <tr>\n",
       "      <th>403</th>\n",
       "      <td>2018-09-15</td>\n",
       "      <td>10878.000000</td>\n",
       "    </tr>\n",
       "    <tr>\n",
       "      <th>506</th>\n",
       "      <td>2018-12-30</td>\n",
       "      <td>9515.000000</td>\n",
       "    </tr>\n",
       "    <tr>\n",
       "      <th>762</th>\n",
       "      <td>2019-09-14</td>\n",
       "      <td>9362.665071</td>\n",
       "    </tr>\n",
       "    <tr>\n",
       "      <th>764</th>\n",
       "      <td>2019-09-16</td>\n",
       "      <td>9632.299988</td>\n",
       "    </tr>\n",
       "    <tr>\n",
       "      <th>765</th>\n",
       "      <td>2019-09-17</td>\n",
       "      <td>9786.519964</td>\n",
       "    </tr>\n",
       "  </tbody>\n",
       "</table>\n",
       "</div>"
      ],
      "text/plain": [
       "         FECHA        VENTAS\n",
       "43  2017-09-13   9454.000000\n",
       "46  2017-09-16   9775.000000\n",
       "140 2017-12-23   9430.000000\n",
       "146 2017-12-30   9694.000000\n",
       "403 2018-09-15  10878.000000\n",
       "506 2018-12-30   9515.000000\n",
       "762 2019-09-14   9362.665071\n",
       "764 2019-09-16   9632.299988\n",
       "765 2019-09-17   9786.519964"
      ]
     },
     "execution_count": 691,
     "metadata": {},
     "output_type": "execute_result"
    }
   ],
   "source": [
    "df[df.VENTAS > 9000]"
   ]
  },
  {
   "cell_type": "markdown",
   "id": "97424f6f-36f2-46aa-8255-fa034ba98193",
   "metadata": {},
   "source": [
    "## 5. Conclusión\n",
    "\n",
    "Se escoge el modelo con mejor capacidad de generalización, es decir, el que posee mejor desempeño en el conjunto de test, el cual viene siendo LSTM con un MAE de 3145.53, al cual le sigue Linear Model con 5863.76 y por último el Baseline con 7006.79. En caso que la interpretabilidad sea importante se sugiere escoger el modelo lineal, ya que los parámetros estimados dan una idea de la importancia de los lags.\n",
    "\n",
    "El modelo escogido se desempeña de manera aceptable teniendo en cuenta que la demanda promedio es 15730, por lo que en promedio nos equivocaremos en 3146 unidades. Sin embargo, este modelo se podría mejorar ingestando otro tipo de información, como fechas de partidos de futboll, ofertas y otro tipo de información que el negocio considere relevante. Adicionalmente, se identifica que en dos momentos del año se obtiene un pick considerable de demanda, estas fechas considen con la semana/s 18 de Septiembre y Navidad-Año Nuevo. Se sugiere tratar esas semanas anómalas y escasas en datos con una heurística (ej: promedio de años anteriores).\n",
    "\n",
    "Para manejar un aumento importante en la cantidad de este tipo de problemas es necesario desarrollar soluciones fáciles de automatizar. Una de las razones por la que Machine Learning ha sido tan exitoso (a parte de la gran disponibilidad de datos y cómputo) es que permite escalar soluciones analíticas sin la necesidad de programar la solución de forma explícita, característica de la cual carece el paradigma tradicional de AI, en donde problemas analíticos complejos se vuelven en un monton de reglas (if/else) que rápidamente escalan en complejidad y se vuelven difíciles de gestionar. En línea con lo mencionado anteriormente, para escalar la solución a múltiples productos y países se debe desarrollar un engranaje de MLOps. Por ejemplo, un equipo desarrolla un modelo genérico, con cierta flexibilidad a nivel de input(ej: más/menos columnas, features), de esta manera el equipo que desarrolla el modelo puede gatillar con un pull request múltiples reentrenamientos en paralelo del mismo modelo en múltiples conjuntos de datos, reemplazando los modelos antiguos, luego estos modelos son llamados períodicamente por un aplicativo de orquestación (ej: Airflow) para escribir las predicciones en un base de datos."
   ]
  }
 ],
 "metadata": {
  "kernelspec": {
   "display_name": "Python 3 (ipykernel)",
   "language": "python",
   "name": "python3"
  },
  "language_info": {
   "codemirror_mode": {
    "name": "ipython",
    "version": 3
   },
   "file_extension": ".py",
   "mimetype": "text/x-python",
   "name": "python",
   "nbconvert_exporter": "python",
   "pygments_lexer": "ipython3",
   "version": "3.10.4"
  }
 },
 "nbformat": 4,
 "nbformat_minor": 5
}
